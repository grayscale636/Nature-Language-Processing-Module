{
 "cells": [
  {
   "cell_type": "code",
   "execution_count": 164,
   "metadata": {},
   "outputs": [],
   "source": [
    "import pandas as pd\n",
    "import numpy as np\n",
    "import fasttext\n",
    "\n",
    "# Memuat dataset\n",
    "train_df = pd.read_excel('NER DATASETS.xlsx', sheet_name='All')\n",
    "\n",
    "\n",
    "# hilangkan label entity yang ambigu pada kolom entity dan barisnya\n",
    "#train_df = train_df[~train_df['entity'].isin(['I-LO', 'O O', 'B-PER O', 'I-PER O', 'O ', 'P'])]\n",
    "#test_df = test_df[~test_df['entity'].isin(['I-LO', 'O O', 'B-PER O', 'I-PER O', 'O ', 'P'])]"
   ]
  },
  {
   "cell_type": "code",
   "execution_count": 165,
   "metadata": {},
   "outputs": [],
   "source": [
    "import numpy as np\n",
    "import os, sys, re\n",
    "import time\n",
    "import fasttext\n",
    "import logging\n",
    "import xml.etree.ElementTree as ET\n",
    "import pandas as pd\n",
    "\n",
    "from sklearn.model_selection import train_test_split\n",
    "\n",
    "from tensorflow.keras.preprocessing.sequence import pad_sequences\n",
    "from tensorflow.keras.utils import to_categorical\n",
    "\n",
    "from tensorflow.keras import Sequential, Model, Input\n",
    "from tensorflow.keras.layers import LSTM, Embedding, Dense, TimeDistributed, Dropout, Bidirectional, InputLayer\n",
    "from tensorflow.keras.utils import plot_model\n",
    "from tensorflow.keras.optimizers import Adam\n",
    "from tensorflow.keras.initializers import Constant\n",
    "\n",
    "import matplotlib.pyplot as plt"
   ]
  },
  {
   "cell_type": "code",
   "execution_count": 166,
   "metadata": {},
   "outputs": [
    {
     "name": "stdout",
     "output_type": "stream",
     "text": [
      "<class 'pandas.core.frame.DataFrame'>\n",
      "RangeIndex: 100182 entries, 0 to 100181\n",
      "Data columns (total 2 columns):\n",
      " #   Column   Non-Null Count   Dtype \n",
      "---  ------   --------------   ----- \n",
      " 0   Entitas  100152 non-null  object\n",
      " 1   Label    92485 non-null   object\n",
      "dtypes: object(2)\n",
      "memory usage: 1.5+ MB\n"
     ]
    }
   ],
   "source": [
    "train_df.info()"
   ]
  },
  {
   "cell_type": "code",
   "execution_count": 167,
   "metadata": {},
   "outputs": [],
   "source": [
    "# buat index untuk kalimat data train\n",
    "\n",
    "sentence_index = 0\n",
    "sentence_indices = []\n",
    "for word in train_df['Entitas']:\n",
    "    if word == '.':\n",
    "        sentence_index += 1\n",
    "    sentence_indices.append(sentence_index)\n",
    "\n",
    "train_df.insert(0, 'Sentence Index', sentence_indices)"
   ]
  },
  {
   "cell_type": "code",
   "execution_count": 170,
   "metadata": {},
   "outputs": [],
   "source": [
    "# # buat index untuk kalimat data test\n",
    "\n",
    "# sentence_index = 0\n",
    "# sentence_indices = []\n",
    "# for word in test_df['Entitas']:\n",
    "#     if word == '.':\n",
    "#         sentence_index += 1\n",
    "#     sentence_indices.append(sentence_index)\n",
    "\n",
    "# test_df.insert(0, 'Sentence Index', sentence_indices)"
   ]
  },
  {
   "cell_type": "code",
   "execution_count": 171,
   "metadata": {},
   "outputs": [
    {
     "data": {
      "text/html": [
       "<div>\n",
       "<style scoped>\n",
       "    .dataframe tbody tr th:only-of-type {\n",
       "        vertical-align: middle;\n",
       "    }\n",
       "\n",
       "    .dataframe tbody tr th {\n",
       "        vertical-align: top;\n",
       "    }\n",
       "\n",
       "    .dataframe thead th {\n",
       "        text-align: right;\n",
       "    }\n",
       "</style>\n",
       "<table border=\"1\" class=\"dataframe\">\n",
       "  <thead>\n",
       "    <tr style=\"text-align: right;\">\n",
       "      <th></th>\n",
       "      <th>Sentence Index</th>\n",
       "      <th>Entitas</th>\n",
       "      <th>Label</th>\n",
       "    </tr>\n",
       "  </thead>\n",
       "  <tbody>\n",
       "    <tr>\n",
       "      <th>0</th>\n",
       "      <td>0</td>\n",
       "      <td>dinding</td>\n",
       "      <td>B-WIS</td>\n",
       "    </tr>\n",
       "    <tr>\n",
       "      <th>1</th>\n",
       "      <td>0</td>\n",
       "      <td>friwenm</td>\n",
       "      <td>I-WIS</td>\n",
       "    </tr>\n",
       "    <tr>\n",
       "      <th>2</th>\n",
       "      <td>0</td>\n",
       "      <td>keindahan</td>\n",
       "      <td>O</td>\n",
       "    </tr>\n",
       "    <tr>\n",
       "      <th>3</th>\n",
       "      <td>0</td>\n",
       "      <td>raja</td>\n",
       "      <td>I-LOC</td>\n",
       "    </tr>\n",
       "    <tr>\n",
       "      <th>4</th>\n",
       "      <td>0</td>\n",
       "      <td>ampat</td>\n",
       "      <td>I-LOC</td>\n",
       "    </tr>\n",
       "    <tr>\n",
       "      <th>...</th>\n",
       "      <td>...</td>\n",
       "      <td>...</td>\n",
       "      <td>...</td>\n",
       "    </tr>\n",
       "    <tr>\n",
       "      <th>100177</th>\n",
       "      <td>7203</td>\n",
       "      <td>senopati</td>\n",
       "      <td>I-LOC</td>\n",
       "    </tr>\n",
       "    <tr>\n",
       "      <th>100178</th>\n",
       "      <td>7203</td>\n",
       "      <td>jakarta</td>\n",
       "      <td>I-LOC</td>\n",
       "    </tr>\n",
       "    <tr>\n",
       "      <th>100179</th>\n",
       "      <td>7203</td>\n",
       "      <td>timur</td>\n",
       "      <td>I-LOC</td>\n",
       "    </tr>\n",
       "    <tr>\n",
       "      <th>100180</th>\n",
       "      <td>7203</td>\n",
       "      <td>kawasan</td>\n",
       "      <td>I-LOC</td>\n",
       "    </tr>\n",
       "    <tr>\n",
       "      <th>100181</th>\n",
       "      <td>7203</td>\n",
       "      <td>jatinegara</td>\n",
       "      <td>I-LOC</td>\n",
       "    </tr>\n",
       "  </tbody>\n",
       "</table>\n",
       "<p>100182 rows × 3 columns</p>\n",
       "</div>"
      ],
      "text/plain": [
       "        Sentence Index     Entitas  Label\n",
       "0                    0     dinding  B-WIS\n",
       "1                    0     friwenm  I-WIS\n",
       "2                    0   keindahan      O\n",
       "3                    0        raja  I-LOC\n",
       "4                    0       ampat  I-LOC\n",
       "...                ...         ...    ...\n",
       "100177            7203    senopati  I-LOC\n",
       "100178            7203     jakarta  I-LOC\n",
       "100179            7203       timur  I-LOC\n",
       "100180            7203     kawasan  I-LOC\n",
       "100181            7203  jatinegara  I-LOC\n",
       "\n",
       "[100182 rows x 3 columns]"
      ]
     },
     "execution_count": 171,
     "metadata": {},
     "output_type": "execute_result"
    }
   ],
   "source": [
    "train_df"
   ]
  },
  {
   "cell_type": "code",
   "execution_count": 172,
   "metadata": {},
   "outputs": [],
   "source": [
    "# test_df"
   ]
  },
  {
   "cell_type": "code",
   "execution_count": 173,
   "metadata": {},
   "outputs": [
    {
     "data": {
      "text/plain": [
       "Sentence Index       0\n",
       "Entitas             30\n",
       "Label             7697\n",
       "dtype: int64"
      ]
     },
     "execution_count": 173,
     "metadata": {},
     "output_type": "execute_result"
    }
   ],
   "source": [
    "train_df.isna().sum()"
   ]
  },
  {
   "cell_type": "code",
   "execution_count": 174,
   "metadata": {},
   "outputs": [],
   "source": [
    "train_df.dropna(inplace=True)\n",
    "# test_df.dropna(inplace=True)"
   ]
  },
  {
   "cell_type": "code",
   "execution_count": 175,
   "metadata": {},
   "outputs": [
    {
     "data": {
      "text/plain": [
       "array(['B-WIS', 'I-WIS', 'O', 'I-LOC', 'B-LOC', 'I-SUA', 'WIS', 'I-FAS',\n",
       "       'o', 'B-FAS', 'OO', 'I-WIIS', 'B-SUA', ' O', 'I', 'O-', 'U-SUA',\n",
       "       'I-WISO', ' ', 'I0W', 'P', 'IL', 'I-W'], dtype=object)"
      ]
     },
     "execution_count": 175,
     "metadata": {},
     "output_type": "execute_result"
    }
   ],
   "source": [
    "train_df['Label'].unique()"
   ]
  },
  {
   "cell_type": "code",
   "execution_count": 176,
   "metadata": {},
   "outputs": [],
   "source": [
    "train_df.loc[train_df['Label'] == 'WIS', 'Label'] = 'I-WIS'\n",
    "train_df.loc[train_df['Label'] == ' O', 'Label'] = 'O'\n",
    "train_df.loc[train_df['Label'] == 'o', 'Label'] = 'O'\n",
    "train_df.loc[train_df['Label'] == 'OO', 'Label'] = 'O'\n",
    "train_df.loc[train_df['Label'] == 'U-SUA', 'Label'] = 'I-SUA'\n",
    "train_df.loc[train_df['Label'] == 'O-', 'Label'] = 'O'\n",
    "train_df.loc[train_df['Label'] == 'I-WIIS', 'Label'] = 'I-WIS'\n",
    "train_df.loc[train_df['Label'] == 'I', 'Label'] = 'O'\n",
    "train_df.loc[train_df['Label'] == 'I-W', 'Label'] = 'I-WIS'\n",
    "train_df.loc[train_df['Label'] == 'I0W', 'Label'] = 'I-WIS'\n",
    "train_df.loc[train_df['Label'] == 'IL', 'Label'] = 'I-LOC'\n",
    "train_df.loc[train_df['Label'] == 'P', 'Label'] = 'O'\n",
    "train_df.loc[train_df['Label'] == ' ', 'Label'] = 'O'"
   ]
  },
  {
   "cell_type": "code",
   "execution_count": 177,
   "metadata": {},
   "outputs": [
    {
     "data": {
      "text/plain": [
       "array(['B-WIS', 'I-WIS', 'O', 'I-LOC', 'B-LOC', 'I-SUA', 'I-FAS', 'B-FAS',\n",
       "       'B-SUA', 'I-WISO'], dtype=object)"
      ]
     },
     "execution_count": 177,
     "metadata": {},
     "output_type": "execute_result"
    }
   ],
   "source": [
    "train_df['Label'].unique()"
   ]
  },
  {
   "cell_type": "code",
   "execution_count": 178,
   "metadata": {},
   "outputs": [
    {
     "data": {
      "text/plain": [
       "array(['B-WIS', 'O', 'I-WIS', 'I-LOC', 'I-SUA', 'B-LOC', 'I-FAS', 'B-SUA',\n",
       "       'B-FAS'], dtype=object)"
      ]
     },
     "execution_count": 178,
     "metadata": {},
     "output_type": "execute_result"
    }
   ],
   "source": [
    "test_df['Label'].unique()"
   ]
  },
  {
   "cell_type": "code",
   "execution_count": 179,
   "metadata": {},
   "outputs": [],
   "source": [
    "test_df.loc[test_df['Label'] == 'I-WISO', 'Label'] = 'I-WIS'\n",
    "test_df.loc[test_df['Label'] == 'OO', 'Label'] = 'O'\n",
    "test_df.loc[test_df['Label'] == 'o', 'Label'] = 'O'\n",
    "test_df.loc[test_df['Label'] == 'P', 'Label'] = 'O'\n",
    "test_df.loc[test_df['Label'] == ' O', 'Label'] = 'O'"
   ]
  },
  {
   "cell_type": "code",
   "execution_count": 180,
   "metadata": {},
   "outputs": [
    {
     "data": {
      "text/plain": [
       "array(['B-WIS', 'O', 'I-WIS', 'I-LOC', 'I-SUA', 'B-LOC', 'I-FAS', 'B-SUA',\n",
       "       'B-FAS'], dtype=object)"
      ]
     },
     "execution_count": 180,
     "metadata": {},
     "output_type": "execute_result"
    }
   ],
   "source": [
    "test_df['Label'].unique()"
   ]
  },
  {
   "cell_type": "code",
   "execution_count": 181,
   "metadata": {},
   "outputs": [
    {
     "data": {
      "image/png": "[encoded data removed]",
      "text/plain": [
       "<Figure size 576x360 with 1 Axes>"
      ]
     },
     "metadata": {},
     "output_type": "display_data"
    }
   ],
   "source": [
    "import seaborn as sns\n",
    "import matplotlib.pyplot as plt\n",
    "\n",
    "sns.set(style=\"whitegrid\")\n",
    "plt.figure(figsize=(8, 5))\n",
    "sns.countplot(y=train_df['Label'], palette=\"Set2\")  # Gunakan 'y' untuk countplot horizontal\n",
    "plt.xlabel(\"Count\")\n",
    "plt.ylabel(\"Category\")\n",
    "plt.title(\"Jumlah kelas label pada data train\")\n",
    "plt.show()"
   ]
  },
  {
   "cell_type": "code",
   "execution_count": 182,
   "metadata": {},
   "outputs": [
    {
     "data": {
      "image/png": "[encoded data removed]",
      "text/plain": [
       "<Figure size 576x360 with 1 Axes>"
      ]
     },
     "metadata": {},
     "output_type": "display_data"
    }
   ],
   "source": [
    "import seaborn as sns\n",
    "import matplotlib.pyplot as plt\n",
    "\n",
    "sns.set(style=\"whitegrid\")\n",
    "plt.figure(figsize=(8, 5))\n",
    "sns.countplot(y=test_df['Label'], palette=\"Set2\")  # Gunakan 'y' untuk countplot horizontal\n",
    "plt.xlabel(\"Count\")\n",
    "plt.ylabel(\"Category\")\n",
    "plt.title(\"Jumlah kelas label pada data test\")\n",
    "plt.show()"
   ]
  },
  {
   "cell_type": "code",
   "execution_count": 183,
   "metadata": {},
   "outputs": [
    {
     "data": {
      "text/plain": [
       "92464"
      ]
     },
     "execution_count": 183,
     "metadata": {},
     "output_type": "execute_result"
    }
   ],
   "source": [
    "len(train_df['Label'])"
   ]
  },
  {
   "cell_type": "code",
   "execution_count": 187,
   "metadata": {},
   "outputs": [],
   "source": [
    "# len(test_df['Label'])"
   ]
  },
  {
   "cell_type": "code",
   "execution_count": 188,
   "metadata": {},
   "outputs": [
    {
     "name": "stdout",
     "output_type": "stream",
     "text": [
      "(92464, 3)\n"
     ]
    }
   ],
   "source": [
    "print(f\"{train_df.shape}\")\n",
    "# print(f\"{test_df.shape}\")"
   ]
  },
  {
   "cell_type": "code",
   "execution_count": 189,
   "metadata": {},
   "outputs": [],
   "source": [
    "sentences = train_df[\"Sentence Index\"].values[-1] + 1"
   ]
  },
  {
   "cell_type": "code",
   "execution_count": 190,
   "metadata": {},
   "outputs": [],
   "source": [
    "def get_dict_map(train_df, token_or_tag):\n",
    "    tok2idx = {}\n",
    "    idx2tok = {}\n",
    "\n",
    "    if token_or_tag == 'token':\n",
    "        vocab = [''] + list(set(train_df['Entitas'].to_list()))\n",
    "    else:\n",
    "        vocab = [''] + list(set(train_df['Label'].to_list()))\n",
    "\n",
    "    idx2tok = {idx:tok for  idx, tok in enumerate(vocab)}\n",
    "    tok2idx = {tok:idx for  idx, tok in enumerate(vocab)}\n",
    "    return tok2idx, idx2tok\n",
    "\n",
    "\n",
    "token2idx, idx2token = get_dict_map(train_df, 'token')\n",
    "tag2idx, idx2tag = get_dict_map(train_df, 'tag')"
   ]
  },
  {
   "cell_type": "code",
   "execution_count": 191,
   "metadata": {},
   "outputs": [],
   "source": [
    "def get_dict_map(train_df, token_or_tag):\n",
    "    tok2idx = {}\n",
    "    idx2tok = {}\n",
    "\n",
    "    if token_or_tag == 'token':\n",
    "        vocab = [''] + list(set(train_df['Entitas'].to_list()))\n",
    "    else:\n",
    "        vocab = [''] + list(set(train_df['Label'].to_list()))\n",
    "\n",
    "    idx2tok = {idx:tok for  idx, tok in enumerate(vocab)}\n",
    "    tok2idx = {tok:idx for  idx, tok in enumerate(vocab)}\n",
    "    return tok2idx, idx2tok\n",
    "\n",
    "\n",
    "token2idx, idx2token = get_dict_map(train_df, 'token')\n",
    "lemma2idx, idx2lemma = get_dict_map(train_df, 'lemma')\n",
    "pos2idx, idx2pos = get_dict_map(train_df, 'pos')\n",
    "tag2idx, idx2tag = get_dict_map(train_df, 'tag')"
   ]
  },
  {
   "cell_type": "code",
   "execution_count": 192,
   "metadata": {},
   "outputs": [
    {
     "data": {
      "text/plain": [
       "{'': 0,\n",
       " 'I-FAS': 1,\n",
       " 'B-WIS': 2,\n",
       " 'I-WIS': 3,\n",
       " 'O': 4,\n",
       " 'B-LOC': 5,\n",
       " 'B-SUA': 6,\n",
       " 'B-FAS': 7,\n",
       " 'I-SUA': 8,\n",
       " 'I-LOC': 9,\n",
       " 'I-WISO': 10}"
      ]
     },
     "execution_count": 192,
     "metadata": {},
     "output_type": "execute_result"
    }
   ],
   "source": [
    "tag2idx"
   ]
  },
  {
   "cell_type": "code",
   "execution_count": 193,
   "metadata": {},
   "outputs": [
    {
     "data": {
      "text/html": [
       "<div>\n",
       "<style scoped>\n",
       "    .dataframe tbody tr th:only-of-type {\n",
       "        vertical-align: middle;\n",
       "    }\n",
       "\n",
       "    .dataframe tbody tr th {\n",
       "        vertical-align: top;\n",
       "    }\n",
       "\n",
       "    .dataframe thead th {\n",
       "        text-align: right;\n",
       "    }\n",
       "</style>\n",
       "<table border=\"1\" class=\"dataframe\">\n",
       "  <thead>\n",
       "    <tr style=\"text-align: right;\">\n",
       "      <th></th>\n",
       "      <th>Sentence Index</th>\n",
       "      <th>Entitas</th>\n",
       "      <th>Label</th>\n",
       "    </tr>\n",
       "  </thead>\n",
       "  <tbody>\n",
       "    <tr>\n",
       "      <th>0</th>\n",
       "      <td>0</td>\n",
       "      <td>dinding</td>\n",
       "      <td>B-WIS</td>\n",
       "    </tr>\n",
       "    <tr>\n",
       "      <th>1</th>\n",
       "      <td>0</td>\n",
       "      <td>friwenm</td>\n",
       "      <td>I-WIS</td>\n",
       "    </tr>\n",
       "    <tr>\n",
       "      <th>2</th>\n",
       "      <td>0</td>\n",
       "      <td>keindahan</td>\n",
       "      <td>O</td>\n",
       "    </tr>\n",
       "    <tr>\n",
       "      <th>3</th>\n",
       "      <td>0</td>\n",
       "      <td>raja</td>\n",
       "      <td>I-LOC</td>\n",
       "    </tr>\n",
       "    <tr>\n",
       "      <th>4</th>\n",
       "      <td>0</td>\n",
       "      <td>ampat</td>\n",
       "      <td>I-LOC</td>\n",
       "    </tr>\n",
       "    <tr>\n",
       "      <th>...</th>\n",
       "      <td>...</td>\n",
       "      <td>...</td>\n",
       "      <td>...</td>\n",
       "    </tr>\n",
       "    <tr>\n",
       "      <th>100177</th>\n",
       "      <td>7203</td>\n",
       "      <td>senopati</td>\n",
       "      <td>I-LOC</td>\n",
       "    </tr>\n",
       "    <tr>\n",
       "      <th>100178</th>\n",
       "      <td>7203</td>\n",
       "      <td>jakarta</td>\n",
       "      <td>I-LOC</td>\n",
       "    </tr>\n",
       "    <tr>\n",
       "      <th>100179</th>\n",
       "      <td>7203</td>\n",
       "      <td>timur</td>\n",
       "      <td>I-LOC</td>\n",
       "    </tr>\n",
       "    <tr>\n",
       "      <th>100180</th>\n",
       "      <td>7203</td>\n",
       "      <td>kawasan</td>\n",
       "      <td>I-LOC</td>\n",
       "    </tr>\n",
       "    <tr>\n",
       "      <th>100181</th>\n",
       "      <td>7203</td>\n",
       "      <td>jatinegara</td>\n",
       "      <td>I-LOC</td>\n",
       "    </tr>\n",
       "  </tbody>\n",
       "</table>\n",
       "<p>92464 rows × 3 columns</p>\n",
       "</div>"
      ],
      "text/plain": [
       "        Sentence Index     Entitas  Label\n",
       "0                    0     dinding  B-WIS\n",
       "1                    0     friwenm  I-WIS\n",
       "2                    0   keindahan      O\n",
       "3                    0        raja  I-LOC\n",
       "4                    0       ampat  I-LOC\n",
       "...                ...         ...    ...\n",
       "100177            7203    senopati  I-LOC\n",
       "100178            7203     jakarta  I-LOC\n",
       "100179            7203       timur  I-LOC\n",
       "100180            7203     kawasan  I-LOC\n",
       "100181            7203  jatinegara  I-LOC\n",
       "\n",
       "[92464 rows x 3 columns]"
      ]
     },
     "execution_count": 193,
     "metadata": {},
     "output_type": "execute_result"
    }
   ],
   "source": [
    "train_df"
   ]
  },
  {
   "cell_type": "code",
   "execution_count": 194,
   "metadata": {},
   "outputs": [],
   "source": [
    "train_df['Entitas Index'] = train_df['Entitas'].map(token2idx)\n",
    "train_df['Label Index'] = train_df['Label'].map(tag2idx)"
   ]
  },
  {
   "cell_type": "code",
   "execution_count": 195,
   "metadata": {},
   "outputs": [
    {
     "data": {
      "text/html": [
       "<div>\n",
       "<style scoped>\n",
       "    .dataframe tbody tr th:only-of-type {\n",
       "        vertical-align: middle;\n",
       "    }\n",
       "\n",
       "    .dataframe tbody tr th {\n",
       "        vertical-align: top;\n",
       "    }\n",
       "\n",
       "    .dataframe thead th {\n",
       "        text-align: right;\n",
       "    }\n",
       "</style>\n",
       "<table border=\"1\" class=\"dataframe\">\n",
       "  <thead>\n",
       "    <tr style=\"text-align: right;\">\n",
       "      <th></th>\n",
       "      <th>Sentence Index</th>\n",
       "      <th>Entitas</th>\n",
       "      <th>Label</th>\n",
       "      <th>Entitas Index</th>\n",
       "      <th>Label Index</th>\n",
       "    </tr>\n",
       "  </thead>\n",
       "  <tbody>\n",
       "    <tr>\n",
       "      <th>0</th>\n",
       "      <td>0</td>\n",
       "      <td>dinding</td>\n",
       "      <td>B-WIS</td>\n",
       "      <td>1328</td>\n",
       "      <td>2</td>\n",
       "    </tr>\n",
       "    <tr>\n",
       "      <th>1</th>\n",
       "      <td>0</td>\n",
       "      <td>friwenm</td>\n",
       "      <td>I-WIS</td>\n",
       "      <td>5998</td>\n",
       "      <td>3</td>\n",
       "    </tr>\n",
       "    <tr>\n",
       "      <th>2</th>\n",
       "      <td>0</td>\n",
       "      <td>keindahan</td>\n",
       "      <td>O</td>\n",
       "      <td>6170</td>\n",
       "      <td>4</td>\n",
       "    </tr>\n",
       "    <tr>\n",
       "      <th>3</th>\n",
       "      <td>0</td>\n",
       "      <td>raja</td>\n",
       "      <td>I-LOC</td>\n",
       "      <td>4697</td>\n",
       "      <td>9</td>\n",
       "    </tr>\n",
       "    <tr>\n",
       "      <th>4</th>\n",
       "      <td>0</td>\n",
       "      <td>ampat</td>\n",
       "      <td>I-LOC</td>\n",
       "      <td>1424</td>\n",
       "      <td>9</td>\n",
       "    </tr>\n",
       "    <tr>\n",
       "      <th>...</th>\n",
       "      <td>...</td>\n",
       "      <td>...</td>\n",
       "      <td>...</td>\n",
       "      <td>...</td>\n",
       "      <td>...</td>\n",
       "    </tr>\n",
       "    <tr>\n",
       "      <th>100177</th>\n",
       "      <td>7203</td>\n",
       "      <td>senopati</td>\n",
       "      <td>I-LOC</td>\n",
       "      <td>3485</td>\n",
       "      <td>9</td>\n",
       "    </tr>\n",
       "    <tr>\n",
       "      <th>100178</th>\n",
       "      <td>7203</td>\n",
       "      <td>jakarta</td>\n",
       "      <td>I-LOC</td>\n",
       "      <td>1315</td>\n",
       "      <td>9</td>\n",
       "    </tr>\n",
       "    <tr>\n",
       "      <th>100179</th>\n",
       "      <td>7203</td>\n",
       "      <td>timur</td>\n",
       "      <td>I-LOC</td>\n",
       "      <td>7387</td>\n",
       "      <td>9</td>\n",
       "    </tr>\n",
       "    <tr>\n",
       "      <th>100180</th>\n",
       "      <td>7203</td>\n",
       "      <td>kawasan</td>\n",
       "      <td>I-LOC</td>\n",
       "      <td>6289</td>\n",
       "      <td>9</td>\n",
       "    </tr>\n",
       "    <tr>\n",
       "      <th>100181</th>\n",
       "      <td>7203</td>\n",
       "      <td>jatinegara</td>\n",
       "      <td>I-LOC</td>\n",
       "      <td>6758</td>\n",
       "      <td>9</td>\n",
       "    </tr>\n",
       "  </tbody>\n",
       "</table>\n",
       "<p>92464 rows × 5 columns</p>\n",
       "</div>"
      ],
      "text/plain": [
       "        Sentence Index     Entitas  Label  Entitas Index  Label Index\n",
       "0                    0     dinding  B-WIS           1328            2\n",
       "1                    0     friwenm  I-WIS           5998            3\n",
       "2                    0   keindahan      O           6170            4\n",
       "3                    0        raja  I-LOC           4697            9\n",
       "4                    0       ampat  I-LOC           1424            9\n",
       "...                ...         ...    ...            ...          ...\n",
       "100177            7203    senopati  I-LOC           3485            9\n",
       "100178            7203     jakarta  I-LOC           1315            9\n",
       "100179            7203       timur  I-LOC           7387            9\n",
       "100180            7203     kawasan  I-LOC           6289            9\n",
       "100181            7203  jatinegara  I-LOC           6758            9\n",
       "\n",
       "[92464 rows x 5 columns]"
      ]
     },
     "execution_count": 195,
     "metadata": {},
     "output_type": "execute_result"
    }
   ],
   "source": [
    "train_df"
   ]
  },
  {
   "cell_type": "code",
   "execution_count": 196,
   "metadata": {},
   "outputs": [
    {
     "name": "stderr",
     "output_type": "stream",
     "text": [
      "C:\\Users\\Itzzgvry\\AppData\\Local\\Temp\\ipykernel_13608\\130365209.py:4: FutureWarning: Indexing with multiple keys (implicitly converted to a tuple of keys) will be deprecated, use a list instead.\n",
      "  df_group = df_fillna.groupby(\n"
     ]
    },
    {
     "data": {
      "text/html": [
       "<div>\n",
       "<style scoped>\n",
       "    .dataframe tbody tr th:only-of-type {\n",
       "        vertical-align: middle;\n",
       "    }\n",
       "\n",
       "    .dataframe tbody tr th {\n",
       "        vertical-align: top;\n",
       "    }\n",
       "\n",
       "    .dataframe thead th {\n",
       "        text-align: right;\n",
       "    }\n",
       "</style>\n",
       "<table border=\"1\" class=\"dataframe\">\n",
       "  <thead>\n",
       "    <tr style=\"text-align: right;\">\n",
       "      <th></th>\n",
       "      <th>Sentence Index</th>\n",
       "      <th>Entitas</th>\n",
       "      <th>Label</th>\n",
       "      <th>Entitas Index</th>\n",
       "      <th>Label Index</th>\n",
       "    </tr>\n",
       "  </thead>\n",
       "  <tbody>\n",
       "    <tr>\n",
       "      <th>0</th>\n",
       "      <td>0</td>\n",
       "      <td>[dinding, friwenm, keindahan, raja, ampat, tak...</td>\n",
       "      <td>[B-WIS, I-WIS, O, I-LOC, I-LOC, O, O, I-WIS, I...</td>\n",
       "      <td>[1328, 5998, 6170, 4697, 1424, 1486, 109, 5473...</td>\n",
       "      <td>[2, 3, 4, 9, 9, 4, 4, 3, 3, 3, 3, 3]</td>\n",
       "    </tr>\n",
       "    <tr>\n",
       "      <th>1</th>\n",
       "      <td>1</td>\n",
       "      <td>[mengutip, situs, raja, ampat, geopark, raja, ...</td>\n",
       "      <td>[O, O, I-WIS, I-WIS, I-WIS, I-WIS, I-WIS, O, O...</td>\n",
       "      <td>[7145, 821, 4697, 1424, 3141, 4697, 1424, 7550...</td>\n",
       "      <td>[4, 4, 3, 3, 3, 3, 3, 4, 4, 4, 9, 4, 3, 3, 4, ...</td>\n",
       "    </tr>\n",
       "    <tr>\n",
       "      <th>2</th>\n",
       "      <td>2</td>\n",
       "      <td>[labuan, bajo, dikenal, surga, tersembunyi, in...</td>\n",
       "      <td>[B-LOC, I-LOC, O, O, O, I-LOC, I-LOC, I-LOC]</td>\n",
       "      <td>[654, 5009, 5660, 4662, 2188, 7386, 3329, 7387]</td>\n",
       "      <td>[5, 9, 4, 4, 4, 9, 9, 9]</td>\n",
       "    </tr>\n",
       "    <tr>\n",
       "      <th>3</th>\n",
       "      <td>3</td>\n",
       "      <td>[desa, berada, kecamatan, komodo, kabupaten, m...</td>\n",
       "      <td>[B-LOC, O, I-LOC, I-LOC, I-LOC, I-LOC, I-LOC, ...</td>\n",
       "      <td>[3057, 794, 436, 3269, 4268, 5619, 2591, 2959,...</td>\n",
       "      <td>[5, 4, 9, 9, 9, 9, 9, 9, 9, 9, 9, 4, 9, 9, 9, ...</td>\n",
       "    </tr>\n",
       "    <tr>\n",
       "      <th>4</th>\n",
       "      <td>4</td>\n",
       "      <td>[mengutip, situs, kemlu, labuan, bajo, menjadi...</td>\n",
       "      <td>[O, O, O, I-LOC, I-LOC, O, O, O, O, O, O, O, O]</td>\n",
       "      <td>[7145, 821, 1445, 654, 5009, 4774, 5868, 5588,...</td>\n",
       "      <td>[4, 4, 4, 9, 9, 4, 4, 4, 4, 4, 4, 4, 4]</td>\n",
       "    </tr>\n",
       "  </tbody>\n",
       "</table>\n",
       "</div>"
      ],
      "text/plain": [
       "   Sentence Index                                            Entitas  \\\n",
       "0               0  [dinding, friwenm, keindahan, raja, ampat, tak...   \n",
       "1               1  [mengutip, situs, raja, ampat, geopark, raja, ...   \n",
       "2               2  [labuan, bajo, dikenal, surga, tersembunyi, in...   \n",
       "3               3  [desa, berada, kecamatan, komodo, kabupaten, m...   \n",
       "4               4  [mengutip, situs, kemlu, labuan, bajo, menjadi...   \n",
       "\n",
       "                                               Label  \\\n",
       "0  [B-WIS, I-WIS, O, I-LOC, I-LOC, O, O, I-WIS, I...   \n",
       "1  [O, O, I-WIS, I-WIS, I-WIS, I-WIS, I-WIS, O, O...   \n",
       "2       [B-LOC, I-LOC, O, O, O, I-LOC, I-LOC, I-LOC]   \n",
       "3  [B-LOC, O, I-LOC, I-LOC, I-LOC, I-LOC, I-LOC, ...   \n",
       "4    [O, O, O, I-LOC, I-LOC, O, O, O, O, O, O, O, O]   \n",
       "\n",
       "                                       Entitas Index  \\\n",
       "0  [1328, 5998, 6170, 4697, 1424, 1486, 109, 5473...   \n",
       "1  [7145, 821, 4697, 1424, 3141, 4697, 1424, 7550...   \n",
       "2    [654, 5009, 5660, 4662, 2188, 7386, 3329, 7387]   \n",
       "3  [3057, 794, 436, 3269, 4268, 5619, 2591, 2959,...   \n",
       "4  [7145, 821, 1445, 654, 5009, 4774, 5868, 5588,...   \n",
       "\n",
       "                                         Label Index  \n",
       "0               [2, 3, 4, 9, 9, 4, 4, 3, 3, 3, 3, 3]  \n",
       "1  [4, 4, 3, 3, 3, 3, 3, 4, 4, 4, 9, 4, 3, 3, 4, ...  \n",
       "2                           [5, 9, 4, 4, 4, 9, 9, 9]  \n",
       "3  [5, 4, 9, 9, 9, 9, 9, 9, 9, 9, 9, 4, 9, 9, 9, ...  \n",
       "4            [4, 4, 4, 9, 9, 4, 4, 4, 4, 4, 4, 4, 4]  "
      ]
     },
     "execution_count": 196,
     "metadata": {},
     "output_type": "execute_result"
    }
   ],
   "source": [
    "# Fill na\n",
    "df_fillna = train_df.fillna(method='ffill', axis=0)\n",
    "# Groupby and collect columns\n",
    "df_group = df_fillna.groupby(\n",
    "['Sentence Index'],as_index=False\n",
    ")['Entitas', 'Label', 'Entitas Index', 'Label Index'].agg(lambda x: list(x))\n",
    "# Visualise data\n",
    "df_group.head()"
   ]
  },
  {
   "cell_type": "code",
   "execution_count": 197,
   "metadata": {},
   "outputs": [
    {
     "data": {
      "text/html": [
       "<div>\n",
       "<style scoped>\n",
       "    .dataframe tbody tr th:only-of-type {\n",
       "        vertical-align: middle;\n",
       "    }\n",
       "\n",
       "    .dataframe tbody tr th {\n",
       "        vertical-align: top;\n",
       "    }\n",
       "\n",
       "    .dataframe thead th {\n",
       "        text-align: right;\n",
       "    }\n",
       "</style>\n",
       "<table border=\"1\" class=\"dataframe\">\n",
       "  <thead>\n",
       "    <tr style=\"text-align: right;\">\n",
       "      <th></th>\n",
       "      <th>Sentence Index</th>\n",
       "      <th>Entitas</th>\n",
       "      <th>Label</th>\n",
       "      <th>Entitas Index</th>\n",
       "      <th>Label Index</th>\n",
       "    </tr>\n",
       "  </thead>\n",
       "  <tbody>\n",
       "    <tr>\n",
       "      <th>7199</th>\n",
       "      <td>7199</td>\n",
       "      <td>[advertisement, kepala, bidang, destinasi, pen...</td>\n",
       "      <td>[O, O, O, O, O, O, O, B-LOC, I-LOC, O, O, O, O...</td>\n",
       "      <td>[2282, 6756, 6059, 5868, 7420, 4232, 5314, 235...</td>\n",
       "      <td>[4, 4, 4, 4, 4, 4, 4, 5, 9, 4, 4, 4, 4, 4, 4, ...</td>\n",
       "    </tr>\n",
       "    <tr>\n",
       "      <th>7200</th>\n",
       "      <td>7200</td>\n",
       "      <td>[tinggal, kemudian, pihaknya, mendorong, dinas...</td>\n",
       "      <td>[O, O, O, O, O, O, B-LOC, O, O, O]</td>\n",
       "      <td>[1869, 4948, 2728, 245, 2626, 6818, 2356, 5271...</td>\n",
       "      <td>[4, 4, 4, 4, 4, 4, 5, 4, 4, 4]</td>\n",
       "    </tr>\n",
       "    <tr>\n",
       "      <th>7201</th>\n",
       "      <td>7201</td>\n",
       "      <td>[kawasan, direkomendasikan, jakarta, utara, ka...</td>\n",
       "      <td>[O, O, B-LOC, O, O, O, O]</td>\n",
       "      <td>[6289, 3078, 1315, 610, 6289, 4710, 1627]</td>\n",
       "      <td>[4, 4, 5, 4, 4, 4, 4]</td>\n",
       "    </tr>\n",
       "    <tr>\n",
       "      <th>7202</th>\n",
       "      <td>7202</td>\n",
       "      <td>[kawsan, jakarta, barat, kawasan]</td>\n",
       "      <td>[O, B-LOC, O, O]</td>\n",
       "      <td>[5669, 1315, 2591, 6289]</td>\n",
       "      <td>[4, 5, 4, 4]</td>\n",
       "    </tr>\n",
       "    <tr>\n",
       "      <th>7203</th>\n",
       "      <td>7203</td>\n",
       "      <td>[kawasan, jakarta, pusat, cikini, jalan, medan...</td>\n",
       "      <td>[I-LOC, I-LOC, O, I-LOC, O, I-LOC, I-LOC, O, I...</td>\n",
       "      <td>[6289, 1315, 1167, 4054, 3195, 2339, 4264, 467...</td>\n",
       "      <td>[9, 9, 4, 9, 4, 9, 9, 4, 9, 9, 9, 9, 9, 9, 9, ...</td>\n",
       "    </tr>\n",
       "  </tbody>\n",
       "</table>\n",
       "</div>"
      ],
      "text/plain": [
       "      Sentence Index                                            Entitas  \\\n",
       "7199            7199  [advertisement, kepala, bidang, destinasi, pen...   \n",
       "7200            7200  [tinggal, kemudian, pihaknya, mendorong, dinas...   \n",
       "7201            7201  [kawasan, direkomendasikan, jakarta, utara, ka...   \n",
       "7202            7202                  [kawsan, jakarta, barat, kawasan]   \n",
       "7203            7203  [kawasan, jakarta, pusat, cikini, jalan, medan...   \n",
       "\n",
       "                                                  Label  \\\n",
       "7199  [O, O, O, O, O, O, O, B-LOC, I-LOC, O, O, O, O...   \n",
       "7200                 [O, O, O, O, O, O, B-LOC, O, O, O]   \n",
       "7201                          [O, O, B-LOC, O, O, O, O]   \n",
       "7202                                   [O, B-LOC, O, O]   \n",
       "7203  [I-LOC, I-LOC, O, I-LOC, O, I-LOC, I-LOC, O, I...   \n",
       "\n",
       "                                          Entitas Index  \\\n",
       "7199  [2282, 6756, 6059, 5868, 7420, 4232, 5314, 235...   \n",
       "7200  [1869, 4948, 2728, 245, 2626, 6818, 2356, 5271...   \n",
       "7201          [6289, 3078, 1315, 610, 6289, 4710, 1627]   \n",
       "7202                           [5669, 1315, 2591, 6289]   \n",
       "7203  [6289, 1315, 1167, 4054, 3195, 2339, 4264, 467...   \n",
       "\n",
       "                                            Label Index  \n",
       "7199  [4, 4, 4, 4, 4, 4, 4, 5, 9, 4, 4, 4, 4, 4, 4, ...  \n",
       "7200                     [4, 4, 4, 4, 4, 4, 5, 4, 4, 4]  \n",
       "7201                              [4, 4, 5, 4, 4, 4, 4]  \n",
       "7202                                       [4, 5, 4, 4]  \n",
       "7203  [9, 9, 4, 9, 4, 9, 9, 4, 9, 9, 9, 9, 9, 9, 9, ...  "
      ]
     },
     "execution_count": 197,
     "metadata": {},
     "output_type": "execute_result"
    }
   ],
   "source": [
    "df_group.tail()"
   ]
  },
  {
   "cell_type": "code",
   "execution_count": 198,
   "metadata": {},
   "outputs": [
    {
     "data": {
      "image/png": "[encoded data removed]",
      "text/plain": [
       "<Figure size 432x288 with 1 Axes>"
      ]
     },
     "metadata": {
      "needs_background": "light"
     },
     "output_type": "display_data"
    }
   ],
   "source": [
    "%matplotlib inline\n",
    "plt.hist([len(s) for s in df_group['Entitas Index']], bins=50) # sentence length histogram\n",
    "plt.show()"
   ]
  },
  {
   "cell_type": "code",
   "execution_count": 216,
   "metadata": {},
   "outputs": [
    {
     "name": "stdout",
     "output_type": "stream",
     "text": [
      "train_tokens length: 6483 \n",
      "dev_tokens length: 721 \n",
      "train_tags: 6483 \n",
      "dev_tags: 721\n"
     ]
    }
   ],
   "source": [
    "def get_pad_train_dev(df_group, train_df):\n",
    "\n",
    "    #Pad tokens (X var)\n",
    "    tokens = df_group['Entitas Index'].tolist()\n",
    "    maxlen = max([len(s) for s in df_group['Entitas Index']])\n",
    "    pad_tokens = pad_sequences(tokens, maxlen=maxlen, dtype='int32', value= token2idx[\"\"])\n",
    "\n",
    "    #Pad Tags (y var) and convert it into one hot encoding\n",
    "    tags = df_group['Label Index'].tolist()\n",
    "    pad_tags = pad_sequences(tags, maxlen=maxlen, dtype='int32', value= tag2idx[\"O\"])\n",
    "    n_tags = len(tag2idx)\n",
    "    pad_tags_ = [to_categorical(i, num_classes=n_tags) for i in pad_tags]\n",
    "\n",
    "    #Split train and dev set\n",
    "    train_tokens, dev_tokens, train_tags, dev_tags = train_test_split(pad_tokens, pad_tags_, test_size = 0.1, train_size =0.9, random_state=42)\n",
    "\n",
    "    print(\n",
    "        'train_tokens length:', len(train_tokens),\n",
    "        '\\ndev_tokens length:', len(dev_tokens),\n",
    "        '\\ntrain_tags:', len(train_tags),\n",
    "        '\\ndev_tags:', len(dev_tags),\n",
    "    )\n",
    "\n",
    "    return np.array(train_tokens), np.array(dev_tokens), np.array(train_tags), np.array(dev_tags)\n",
    "\n",
    "train_tokens_, dev_tokens_, train_tags_, dev_tags_ = get_pad_train_dev(df_group, train_df)"
   ]
  },
  {
   "cell_type": "markdown",
   "metadata": {},
   "source": [
    "This is how the data can be converted back to human-readable form."
   ]
  },
  {
   "cell_type": "code",
   "execution_count": 217,
   "metadata": {},
   "outputs": [
    {
     "data": {
      "text/plain": [
       "[('jakarta', 'B-LOC'),\n",
       " ('objek', 'O'),\n",
       " ('wisata', 'O'),\n",
       " ('indonesia', 'I-LOC'),\n",
       " ('tak', 'O'),\n",
       " ('terhingga', 'O'),\n",
       " ('jumlahnya', 'O')]"
      ]
     },
     "execution_count": 217,
     "metadata": {},
     "output_type": "execute_result"
    }
   ],
   "source": [
    "[(idx2token[x], idx2tag[np.argmax(y)]) for x, y in zip(train_tokens_[641], train_tags_[641]) if idx2token[x]]"
   ]
  },
  {
   "cell_type": "markdown",
   "metadata": {},
   "source": [
    "Neural Network Parameters"
   ]
  },
  {
   "cell_type": "code",
   "execution_count": 218,
   "metadata": {},
   "outputs": [
    {
     "name": "stdout",
     "output_type": "stream",
     "text": [
      "input_dim:  8013 \n",
      "output_dim:  64 \n",
      "input_length:  616 \n",
      "n_tags:  11\n"
     ]
    }
   ],
   "source": [
    "input_dim = len(list(set(train_df['Entitas'].to_list())))+1 # vocab length + padding\n",
    "output_dim = 64\n",
    "input_length = train_tokens_.shape[1] # max example length\n",
    "n_tags = len(tag2idx)\n",
    "print('input_dim: ', input_dim, '\\noutput_dim: ', output_dim, '\\ninput_length: ', input_length, '\\nn_tags: ', n_tags)"
   ]
  },
  {
   "cell_type": "code",
   "execution_count": 219,
   "metadata": {},
   "outputs": [
    {
     "name": "stdout",
     "output_type": "stream",
     "text": [
      "CPU times: total: 2.7 s\n",
      "Wall time: 1min 12s\n"
     ]
    },
    {
     "name": "stderr",
     "output_type": "stream",
     "text": [
      "Warning : `load_model` does not return WordVectorModel or SupervisedModel any more, but a `FastText` object which is very similar.\n"
     ]
    }
   ],
   "source": [
    " # This takes ~2 mins.\n",
    " %time embeddings = fasttext.load_model('cc.id.300.bin')"
   ]
  },
  {
   "cell_type": "code",
   "execution_count": 220,
   "metadata": {},
   "outputs": [
    {
     "name": "stdout",
     "output_type": "stream",
     "text": [
      "Converted 8013 words (0 misses)\n"
     ]
    }
   ],
   "source": [
    "# Prepare embedding matrix\n",
    "hits = misses = 0 # in case of FastText all tokens should be covered\n",
    "embedding_matrix = np.zeros((len(token2idx), embeddings.get_dimension()))\n",
    "for word, i in token2idx.items():\n",
    "    embedding_vector = embeddings[word]\n",
    "    if embedding_vector is not None:\n",
    "        # Words not found in embedding index will be all-zeros.\n",
    "        # This includes the representation for \"padding\" and \"OOV\"\n",
    "        embedding_matrix[i] = embedding_vector\n",
    "        hits += 1\n",
    "    else:\n",
    "        misses += 1\n",
    "print(\"Converted %d words (%d misses)\" % (hits, misses))"
   ]
  },
  {
   "cell_type": "markdown",
   "metadata": {},
   "source": [
    "## Neural Network Architecture\n",
    "\n",
    "We use BiLSTM & LSTM with dropouts. You can experiment with this. A larger network does not always bring better results.\n",
    "\n",
    "For the output layer, we use softmax and categorical crossentropy loss - this is the most suitable setting for categorization tasks.\n",
    "\n",
    "In the Embedding layer, we use the FastText weights as inputs.\n",
    "\n",
    "Since the sequences are padded with zeros, it is extremely easy for the net to learn these paddings. On the other hand, this information is not useful in the evaluation. For this reason, we use the masking of zeros, so they do not contribute to the evaluation calculation. (If you switch ``mask_zero`` to ``False``, your net will have 99% accuracy without being better than a masked net."
   ]
  },
  {
   "cell_type": "code",
   "execution_count": 221,
   "metadata": {},
   "outputs": [
    {
     "name": "stdout",
     "output_type": "stream",
     "text": [
      "Model: \"sequential_1\"\n",
      "_________________________________________________________________\n",
      " Layer (type)                Output Shape              Param #   \n",
      "=================================================================\n",
      " embedding_1 (Embedding)     (None, 616, 300)          2403900   \n",
      "                                                                 \n",
      " dropout_2 (Dropout)         (None, 616, 300)          0         \n",
      "                                                                 \n",
      " bidirectional_1 (Bidirectio  (None, 616, 256)         439296    \n",
      " nal)                                                            \n",
      "                                                                 \n",
      " dropout_3 (Dropout)         (None, 616, 256)          0         \n",
      "                                                                 \n",
      " lstm_3 (LSTM)               (None, 616, 64)           82176     \n",
      "                                                                 \n",
      " time_distributed_1 (TimeDis  (None, 616, 11)          715       \n",
      " tributed)                                                       \n",
      "                                                                 \n",
      "=================================================================\n",
      "Total params: 2,926,087\n",
      "Trainable params: 2,926,087\n",
      "Non-trainable params: 0\n",
      "_________________________________________________________________\n"
     ]
    },
    {
     "name": "stderr",
     "output_type": "stream",
     "text": [
      "c:\\Users\\Itzzgvry\\anaconda3\\lib\\site-packages\\keras\\optimizers\\optimizer_v2\\adam.py:114: UserWarning: The `lr` argument is deprecated, use `learning_rate` instead.\n",
      "  super().__init__(name, **kwargs)\n"
     ]
    }
   ],
   "source": [
    "model = Sequential()\n",
    "\n",
    "# Add Embedding layer\n",
    "model.add(Embedding(input_dim=input_dim, output_dim=embeddings.get_dimension(), input_length=input_length, embeddings_initializer=Constant(embedding_matrix), trainable=True, mask_zero=True))\n",
    "#model.add(Embedding(input_dim=input_dim, output_dim=output_dim, input_length=input_length, trainable=True, mask_zero=True))\n",
    "\n",
    "model.add(Dropout(0.5))\n",
    "# Add BiLSTM\n",
    "model.add(Bidirectional(LSTM(units=output_dim*2, return_sequences=True), merge_mode = 'concat'))\n",
    "\n",
    "model.add(Dropout(0.5))\n",
    "model.add(LSTM(units=output_dim, return_sequences=True))\n",
    "\n",
    "# Add timeDistributed Layer\n",
    "model.add(TimeDistributed(Dense(n_tags, activation=\"softmax\")))\n",
    "\n",
    "#Optimiser\n",
    "adam = Adam(lr=0.005, beta_1=0.9, beta_2=0.999)\n",
    "\n",
    "# Compile model\n",
    "model.compile(loss='categorical_crossentropy', optimizer=adam, metrics=['accuracy'])\n",
    "#model.compile(loss='sparse_categorical_crossentropy', optimizer=adam, metrics=['accuracy'])\n",
    "\n",
    "model.summary()"
   ]
  },
  {
   "cell_type": "code",
   "execution_count": 222,
   "metadata": {},
   "outputs": [
    {
     "data": {
      "text/plain": [
       "6483"
      ]
     },
     "execution_count": 222,
     "metadata": {},
     "output_type": "execute_result"
    }
   ],
   "source": [
    "len(train_tokens_)"
   ]
  },
  {
   "cell_type": "code",
   "execution_count": 223,
   "metadata": {},
   "outputs": [
    {
     "name": "stdout",
     "output_type": "stream",
     "text": [
      "Epoch 1/5\n",
      "92/92 [==============================] - 194s 2s/step - loss: 0.0134 - accuracy: 0.8131 - val_loss: 0.0075 - val_accuracy: 0.8980\n",
      "Epoch 2/5\n",
      "92/92 [==============================] - 308s 3s/step - loss: 0.0055 - accuracy: 0.9216 - val_loss: 0.0048 - val_accuracy: 0.9311\n",
      "Epoch 3/5\n",
      "92/92 [==============================] - 299s 3s/step - loss: 0.0038 - accuracy: 0.9423 - val_loss: 0.0040 - val_accuracy: 0.9395\n",
      "Epoch 4/5\n",
      "92/92 [==============================] - 305s 3s/step - loss: 0.0030 - accuracy: 0.9526 - val_loss: 0.0037 - val_accuracy: 0.9428\n",
      "Epoch 5/5\n",
      "92/92 [==============================] - 248s 3s/step - loss: 0.0026 - accuracy: 0.9604 - val_loss: 0.0038 - val_accuracy: 0.9437\n"
     ]
    }
   ],
   "source": [
    "# Training: It takes several minutes.\n",
    "hist = model.fit(train_tokens_, train_tags_, batch_size=64, verbose=1, epochs=5, validation_split=0.1)"
   ]
  },
  {
   "cell_type": "markdown",
   "metadata": {},
   "source": [
    "## Sample predictions on the train set\n",
    "\n",
    "Below, you can see predictions on the train set. Not surprisingly, they are correct.\n",
    "\n",
    "**TASK 2** Modify the code to display dev set predictions. Comment on what you see.\n",
    "\n",
    "**OPTIONAL TASK** Evaluate the network on the dev set. What entities are easy to recognize? Which are hard?"
   ]
  },
  {
   "cell_type": "code",
   "execution_count": 228,
   "metadata": {},
   "outputs": [
    {
     "name": "stdout",
     "output_type": "stream",
     "text": [
      "1/1 [==============================] - 0s 118ms/step\n",
      "[('adapun', 'O', 'O'), ('tujuannya', 'O', 'O'), ('mengoptimalisasi', 'O', 'O'), ('berbagai', 'O', 'O'), ('potensi', 'O', 'O'), ('menggerakan', 'O', 'O'), ('roda', 'O', 'O'), ('perekonomian', 'O', 'O'), ('indonesia', 'I-LOC', 'I-LOC')]\n",
      "1/1 [==============================] - 0s 124ms/step\n",
      "[('sejalan', 'O', 'O'), ('dorongan', 'O', 'O'), ('pemerintah', 'O', 'O'), ('lewat', 'O', 'O'), ('gerakan', 'O', 'O'), ('nasional', 'O', 'O'), ('bangga', 'O', 'O'), ('buatan', 'O', 'O'), ('indonesia', 'I-LOC', 'I-LOC'), ('gernas', 'O', 'O'), ('bbi', 'O', 'O')]\n",
      "1/1 [==============================] - 0s 119ms/step\n",
      "[('dufan', 'B-WIS', 'B-WIS'), ('sendiri', 'O', 'O'), ('dikenal', 'O', 'O'), ('salah', 'O', 'O'), ('satu', 'O', 'O'), ('pusat', 'O', 'O'), ('rekreasi', 'O', 'O'), ('hiburan', 'O', 'O'), ('terbesar', 'O', 'O'), ('indonesia', 'I-LOC', 'I-LOC'), ('menyediakan', 'O', 'O'), ('kawasan', 'O', 'O'), ('konsep', 'O', 'O'), ('fantasi', 'O', 'O'), ('menakjubkan', 'O', 'O')]\n",
      "1/1 [==============================] - 0s 135ms/step\n",
      "[('namun', 'O', 'O'), ('kota', 'O', 'O'), ('sebelumnya', 'O', 'O'), ('bernama', 'O', 'O'), ('batavia', 'I-LOC', 'I-LOC'), ('memiliki', 'O', 'O'), ('banyak', 'O', 'O'), ('sekali', 'O', 'O'), ('objek', 'O', 'O'), ('wisata', 'O', 'O'), ('lengkap', 'O', 'O'), ('menarik', 'O', 'O'), ('mulai', 'O', 'O'), ('sejarah', 'O', 'O'), ('budaya', 'O', 'O'), ('wisata', 'O', 'O'), ('alam', 'O', 'O'), ('hingga', 'O', 'O'), ('berbagai', 'O', 'O'), ('jenis', 'O', 'O'), ('kulinernya', 'O', 'O')]\n",
      "1/1 [==============================] - 0s 139ms/step\n",
      "[('kota', 'B-LOC', 'B-WIS'), ('memiliki', 'O', 'O'), ('banyak', 'O', 'O'), ('unsur', 'O', 'O'), ('pribumi', 'O', 'O'), ('masukan', 'O', 'O'), ('eropa', 'I-LOC', 'I-LOC'), ('menjadikannya', 'O', 'O'), ('tempat', 'O', 'O'), ('indah', 'O', 'O'), ('dikunjungi', 'O', 'O')]\n",
      "1/1 [==============================] - 0s 134ms/step\n",
      "[('meningkatkan', 'O', 'O'), ('pelayanan', 'O', 'O'), ('bandara', 'I-FAS', 'I-FAS'), ('hingga', 'O', 'O'), ('perbaikan', 'O', 'O'), ('tata', 'O', 'O'), ('kelola', 'O', 'O'), ('destinasi', 'O', 'O'), ('wisata', 'O', 'O')]\n",
      "1/1 [==============================] - 0s 136ms/step\n",
      "[('jumlah', 'O', 'O'), ('608460', 'O', 'O'), ('penumpang', 'O', 'O'), ('datang', 'O', 'O'), ('bali', 'I-LOC', 'I-LOC'), ('handy', 'O', 'O'), ('adala', 'O', 'O'), ('tahun', 'O', 'O'), ('bulan', 'O', 'O'), ('januari', 'O', 'O'), ('november', 'O', 'O'), ('2022', 'O', 'O')]\n",
      "1/1 [==============================] - 0s 122ms/step\n",
      "[('bukan', 'O', 'O'), ('sekedar', 'O', 'O'), ('jalanjalan', 'O', 'O'), ('melihat', 'O', 'O'), ('area', 'O', 'O'), ('memikat', 'O', 'O'), ('mata', 'O', 'O'), ('wisatawan', 'O', 'O'), ('kaya', 'O', 'O'), ('pengetahuan', 'O', 'O'), ('sejarah', 'O', 'O')]\n",
      "1/1 [==============================] - 0s 119ms/step\n",
      "[('monumen', 'B-WIS', 'B-WIS'), ('nasional', 'I-WIS', 'I-WIS'), ('monas', 'I-WIS', 'I-WIS'), ('bangunan', 'O', 'I-WIS'), ('setinggi', 'O', 'O'), ('132', 'O', 'O'), ('meter', 'O', 'O'), ('emas', 'O', 'O'), ('seberat', 'O', 'O'), ('35', 'O', 'O'), ('kilogram', 'O', 'O'), ('puncaknya', 'O', 'O'), ('merupakan', 'O', 'O'), ('ikon', 'O', 'O'), ('jakarta', 'I-LOC', 'I-LOC'), ('banyak', 'O', 'O'), ('orang', 'O', 'O'), ('mengatakan', 'O', 'O'), ('belom', 'O', 'O'), ('lengkap', 'O', 'O'), ('rasanya', 'O', 'O'), ('jakarta', 'I-LOC', 'I-LOC'), ('mengunjungi', 'O', 'O'), ('monas', 'I-WIS', 'I-WIS')]\n",
      "1/1 [==============================] - 0s 124ms/step\n",
      "[('lautnya', 'O', 'O'), ('jernih', 'I-SUA', 'I-SUA'), ('sebening', 'O', 'O'), ('kristal', 'O', 'O'), ('pas', 'O', 'O'), ('buat', 'O', 'O'), ('snorkeling', 'O', 'O')]\n"
     ]
    }
   ],
   "source": [
    "i = 0\n",
    "\n",
    "#[(idx2token[x], idx2tag[np.argmax(y)]) for x, y in zip(train_tokens_[103], train_tags_[103]) if idx2token[x]]\n",
    "\n",
    "for sample, annotation in zip(train_tokens_, train_tags_):\n",
    "  ex=sample.reshape((1, sample.shape[0]))\n",
    "  prediction = model.predict(ex)\n",
    "  ner = np.squeeze(np.argmax(prediction, axis=-1)[:len(sample)])\n",
    "  print([(idx2token[x], idx2tag[np.argmax(y)], idx2tag[z]) for x, y, z in zip(sample, annotation, ner) if idx2token[x]])\n",
    "  i += 1\n",
    "  if i == 10:\n",
    "    break"
   ]
  },
  {
   "cell_type": "code",
   "execution_count": 229,
   "metadata": {},
   "outputs": [
    {
     "name": "stdout",
     "output_type": "stream",
     "text": [
      "1/1 [==============================] - 0s 177ms/step\n",
      "[('merdeka', 'B-WIS', 'B-WIS'), ('walk', 'I-WIS', 'I-WIS'), ('dikenal', 'O', 'O'), ('pusat', 'O', 'O'), ('kuliner', 'O', 'O'), ('objek', 'O', 'O'), ('wisata', 'O', 'O'), ('medan', 'I-LOC', 'I-LOC')]\n",
      "1/1 [==============================] - 0s 125ms/step\n",
      "[('urusan', 'O', 'O'), ('akomodasi', 'O', 'O'), ('jauh', 'O', 'O'), ('tempat', 'O', 'O'), ('wisata', 'O', 'O'), ('beberapa', 'O', 'O'), ('hotel', 'I-FAS', 'I-FAS'), ('penginapan', 'I-FAS', 'I-FAS'), ('singgahi', 'O', 'O')]\n",
      "1/1 [==============================] - 0s 125ms/step\n",
      "[('rumah', 'I-FAS', 'O'), ('besar', 'O', 'O'), ('memiliki', 'O', 'O'), ('ukuran', 'O', 'O'), ('sebesar', 'O', 'O'), ('8000', 'O', 'O'), ('mÂ²', 'O', 'O'), ('dalamnya', 'O', 'O'), ('terbagi', 'O', 'O'), ('35', 'O', 'O'), ('ruangan', 'O', 'O'), ('kamu', 'O', 'O'), ('telusuri', 'O', 'O'), ('berkunjung', 'O', 'O')]\n",
      "1/1 [==============================] - 0s 125ms/step\n",
      "[('kawasan', 'O', 'O'), ('terkenal', 'O', 'O'), ('objek', 'O', 'O'), ('wisata', 'O', 'O'), ('berbentuk', 'O', 'O'), ('pulau', 'I-WIS', 'I-WIS'), ('menjadi', 'O', 'O'), ('magnet', 'O', 'O'), ('wisatawan', 'O', 'O')]\n",
      "1/1 [==============================] - 0s 125ms/step\n",
      "[('kawah', 'B-WIS', 'B-WIS'), ('putihc', 'I-WIS', 'I-WIS')]\n",
      "1/1 [==============================] - 0s 126ms/step\n",
      "[('ayo', 'O', 'O'), ('berwisata', 'O', 'O'), ('negeri', 'O', 'O')]\n",
      "1/1 [==============================] - 0s 133ms/step\n",
      "[('mulai', 'O', 'O'), ('kuliner', 'O', 'O'), ('rempah', 'O', 'O'), ('kaya', 'O', 'O'), ('rasa', 'O', 'O'), ('wisata', 'O', 'O'), ('bahari', 'O', 'O'), ('aduhai', 'O', 'O'), ('hingga', 'O', 'O'), ('petualangan', 'O', 'O'), ('alam', 'O', 'O'), ('terbuka', 'O', 'O'), ('menantang', 'O', 'O'), ('adrenalin', 'O', 'O')]\n",
      "1/1 [==============================] - 0s 117ms/step\n",
      "[('harusnya', 'O', 'O'), ('kembangkan', 'O', 'O'), ('jepang', 'I-LOC', 'I-LOC'), ('sangat', 'O', 'O'), ('kuat', 'O', 'O'), ('katanya', 'O', 'O')]\n",
      "1/1 [==============================] - 0s 121ms/step\n",
      "[('danau', 'B-WIS', 'B-WIS'), ('danau', 'I-WIS', 'I-WIS'), ('kawah', 'I-WIS', 'I-WIS'), ('kaldera', 'I-WIS', 'I-WIS'), ('terbentuk', 'O', 'O'), ('letusan', 'O', 'O'), ('gunung', 'I-WIS', 'I-WIS'), ('berapi', 'I-WIS', 'O'), ('eksplosif', 'O', 'O'), ('gunung', 'I-WIS', 'I-WIS'), ('samalas', 'I-WIS', 'I-WIS'), ('tahun', 'O', 'O'), ('1257', 'O', 'O')]\n",
      "1/1 [==============================] - 0s 118ms/step\n",
      "[('pantai', 'B-WIS', 'B-WIS'), ('ancol', 'I-WIS', 'I-WIS'), ('menjadi', 'O', 'O'), ('tempat', 'O', 'O'), ('terbaik', 'O', 'O'), ('melepas', 'O', 'O'), ('penat', 'O', 'O'), ('liburan', 'O', 'O'), ('bersama', 'O', 'O'), ('keluarga', 'O', 'O'), ('kulineran', 'O', 'O'), ('berburu', 'O', 'O'), ('spot', 'I-FAS', 'I-FAS'), ('foto', 'I-FAS', 'I-FAS'), ('keren', 'O', 'O')]\n"
     ]
    }
   ],
   "source": [
    "i = 0\n",
    "\n",
    "#[(idx2token[x], idx2tag[np.argmax(y)]) for x, y in zip(train_tokens_[103], train_tags_[103]) if idx2token[x]]\n",
    "\n",
    "for sample, annotation in zip(dev_tokens_, dev_tags_):\n",
    "  ex=sample.reshape((1, sample.shape[0]))\n",
    "  prediction = model.predict(ex)\n",
    "  ner = np.squeeze(np.argmax(prediction, axis=-1)[:len(sample)])\n",
    "  print([(idx2token[x], idx2tag[np.argmax(y)], idx2tag[z]) for x, y, z in zip(sample, annotation, ner) if idx2token[x]])\n",
    "  i += 1\n",
    "  if i == 10:\n",
    "    break"
   ]
  },
  {
   "cell_type": "markdown",
   "metadata": {},
   "source": []
  },
  {
   "cell_type": "markdown",
   "metadata": {},
   "source": [
    "## Test dengan data baru"
   ]
  },
  {
   "cell_type": "code",
   "execution_count": 282,
   "metadata": {},
   "outputs": [
    {
     "name": "stdout",
     "output_type": "stream",
     "text": [
      "OOV: ['Keindahan', 'Eropa']\n",
      "1/1 [==============================] - 0s 102ms/step\n",
      "[('Keindahan', 'O'), ('Eropa', 'O'), ('memiliki', 'O'), ('banyak', 'O'), ('gunung', 'I-WIS'), ('indah', 'I-SUA'), ('dan', 'O'), ('banyak', 'O'), ('spot', 'I-FAS'), ('foto', 'I-FAS')]\n"
     ]
    }
   ],
   "source": [
    "my_sentence = \"Keindahan Eropa memiliki banyak gunung indah dan banyak spot foto\"\n",
    "encoded = [token2idx.get(t, 0) for t in my_sentence.split()] + [0] * input_length\n",
    "print(\"OOV:\", [t for t in my_sentence.split() if t not in token2idx])\n",
    "encoded = encoded[:input_length]\n",
    "\n",
    "sample = np.array(encoded).reshape((1, input_length))\n",
    "prediction = model.predict(sample)\n",
    "ner = np.squeeze(np.argmax(prediction, axis=-1)[:len(my_sentence.split())])\n",
    "print([(t, idx2tag[n]) for t, n in zip(my_sentence.split(), ner)])"
   ]
  },
  {
   "cell_type": "code",
   "execution_count": null,
   "metadata": {},
   "outputs": [],
   "source": []
  }
 ],
 "metadata": {
  "kernelspec": {
   "display_name": "base",
   "language": "python",
   "name": "python3"
  },
  "language_info": {
   "codemirror_mode": {
    "name": "ipython",
    "version": 3
   },
   "file_extension": ".py",
   "mimetype": "text/x-python",
   "name": "python",
   "nbconvert_exporter": "python",
   "pygments_lexer": "ipython3",
   "version": "3.9.12"
  },
  "orig_nbformat": 4
 },
 "nbformat": 4,
 "nbformat_minor": 2
}
