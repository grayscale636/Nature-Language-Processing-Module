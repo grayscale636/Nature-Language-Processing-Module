{
  "nbformat": 4,
  "nbformat_minor": 0,
  "metadata": {
    "colab": {
      "provenance": []
    },
    "kernelspec": {
      "name": "python3",
      "display_name": "Python 3"
    },
    "language_info": {
      "name": "python"
    }
  },
  "cells": [
    {
      "cell_type": "code",
      "execution_count": 1,
      "metadata": {
        "id": "qJcYbTAIp8sX"
      },
      "outputs": [],
      "source": [
        "import pandas as pd\n",
        "from nltk import word_tokenize\n",
        "from nltk.tag import CRFTagger"
      ]
    },
    {
      "cell_type": "code",
      "source": [
        "import nltk\n",
        "nltk.download('punkt')"
      ],
      "metadata": {
        "colab": {
          "base_uri": "https://localhost:8080/",
          "height": 0
        },
        "id": "cY89ODvzWzzb",
        "outputId": "96806b4c-2f61-442e-8ecb-d372fde68962"
      },
      "execution_count": 3,
      "outputs": [
        {
          "output_type": "stream",
          "name": "stderr",
          "text": [
            "[nltk_data] Downloading package punkt to /root/nltk_data...\n",
            "[nltk_data]   Package punkt is already up-to-date!\n"
          ]
        },
        {
          "output_type": "execute_result",
          "data": {
            "text/plain": [
              "True"
            ]
          },
          "metadata": {},
          "execution_count": 3
        }
      ]
    },
    {
      "cell_type": "code",
      "source": [
        "data=pd.read_excel(\"hasilpreprocessing.xlsx\")"
      ],
      "metadata": {
        "id": "FH1yvWsQWM-4"
      },
      "execution_count": 4,
      "outputs": []
    },
    {
      "cell_type": "markdown",
      "source": [
        "LOAD DATA"
      ],
      "metadata": {
        "id": "ptOuboPOWuV-"
      }
    },
    {
      "cell_type": "code",
      "source": [
        "data"
      ],
      "metadata": {
        "colab": {
          "base_uri": "https://localhost:8080/",
          "height": 424
        },
        "id": "3rAqvW9IWXNo",
        "outputId": "ac052ecf-0940-4676-a086-7a4eb44948ea"
      },
      "execution_count": 5,
      "outputs": [
        {
          "output_type": "execute_result",
          "data": {
            "text/plain": [
              "                       Nama          Waktu     Rating  \\\n",
              "0              Sonia Soraya  3 minggu lalu  5 bintang   \n",
              "1          Andy Kristyagita   sebulan lalu  5 bintang   \n",
              "2               Edza Tamara  2 minggu lalu  5 bintang   \n",
              "3               Abrakadabra  seminggu lalu  5 bintang   \n",
              "4              Riko Tampati   sebulan lalu  4 bintang   \n",
              "..                      ...            ...        ...   \n",
              "285             bunda popon   3 bulan lalu  5 bintang   \n",
              "286                  petruk   setahun lalu  5 bintang   \n",
              "287             Eva Meliana   2 tahun lalu  5 bintang   \n",
              "288  Deandra Almerrafif W.T   sebulan lalu  5 bintang   \n",
              "289            agniya ridha   2 tahun lalu  5 bintang   \n",
              "\n",
              "                                                Review  \\\n",
              "0    Bismillah tadi kita ke ke sana..  Pas masuk di...   \n",
              "1    Walaupun sudah berulang kali ke sini semenjak ...   \n",
              "2    Suasanan malam hari di lokawisata baturraden n...   \n",
              "3    Tempat nya sangat Bersih Dan rapih, butuh stam...   \n",
              "4    Masih masa lebaran, tiket masuk agak mahal 25r...   \n",
              "..                                                 ...   \n",
              "285  Paket komplit, murah meriah cocok untuk acara ...   \n",
              "286  Lokasi nya nyaman dan aman, banyak tempat untu...   \n",
              "287  Tempat nya bagus, sejuk, pemandian nya air nya...   \n",
              "288           View bagus,,, tiket murah, berenang free   \n",
              "289  Seneng banget bisa kesini, suasananya alam ban...   \n",
              "\n",
              "                                           CleanReview  \n",
              "0    bismilah tadi sana pas masuk suru cuci tangan ...  \n",
              "1    walaupun ulang kali sini semenjak kecil rasa b...  \n",
              "2    suasanan malam hari lokawisata baturaden nih s...  \n",
              "3    tempat sangat bersih rapih butuh stamina utama...  \n",
              "4    masa lebaran tiket masuk mahal rb sangat ramai...  \n",
              "..                                                 ...  \n",
              "285      paket komplit murah riah cocok acara keluarga  \n",
              "286  lokasi nyaman aman banyak tempat berswaphoto b...  \n",
              "287  tempat bagus sejuk mandi air dingin hangat fla...  \n",
              "288                  view bagus tiket murah renang fre  \n",
              "289  neng banget kesini suasana alam banget bukit s...  \n",
              "\n",
              "[290 rows x 5 columns]"
            ],
            "text/html": [
              "\n",
              "  <div id=\"df-42fca4ea-aebe-47a3-94d9-de76543476da\">\n",
              "    <div class=\"colab-df-container\">\n",
              "      <div>\n",
              "<style scoped>\n",
              "    .dataframe tbody tr th:only-of-type {\n",
              "        vertical-align: middle;\n",
              "    }\n",
              "\n",
              "    .dataframe tbody tr th {\n",
              "        vertical-align: top;\n",
              "    }\n",
              "\n",
              "    .dataframe thead th {\n",
              "        text-align: right;\n",
              "    }\n",
              "</style>\n",
              "<table border=\"1\" class=\"dataframe\">\n",
              "  <thead>\n",
              "    <tr style=\"text-align: right;\">\n",
              "      <th></th>\n",
              "      <th>Nama</th>\n",
              "      <th>Waktu</th>\n",
              "      <th>Rating</th>\n",
              "      <th>Review</th>\n",
              "      <th>CleanReview</th>\n",
              "    </tr>\n",
              "  </thead>\n",
              "  <tbody>\n",
              "    <tr>\n",
              "      <th>0</th>\n",
              "      <td>Sonia Soraya</td>\n",
              "      <td>3 minggu lalu</td>\n",
              "      <td>5 bintang</td>\n",
              "      <td>Bismillah tadi kita ke ke sana..  Pas masuk di...</td>\n",
              "      <td>bismilah tadi sana pas masuk suru cuci tangan ...</td>\n",
              "    </tr>\n",
              "    <tr>\n",
              "      <th>1</th>\n",
              "      <td>Andy Kristyagita</td>\n",
              "      <td>sebulan lalu</td>\n",
              "      <td>5 bintang</td>\n",
              "      <td>Walaupun sudah berulang kali ke sini semenjak ...</td>\n",
              "      <td>walaupun ulang kali sini semenjak kecil rasa b...</td>\n",
              "    </tr>\n",
              "    <tr>\n",
              "      <th>2</th>\n",
              "      <td>Edza Tamara</td>\n",
              "      <td>2 minggu lalu</td>\n",
              "      <td>5 bintang</td>\n",
              "      <td>Suasanan malam hari di lokawisata baturraden n...</td>\n",
              "      <td>suasanan malam hari lokawisata baturaden nih s...</td>\n",
              "    </tr>\n",
              "    <tr>\n",
              "      <th>3</th>\n",
              "      <td>Abrakadabra</td>\n",
              "      <td>seminggu lalu</td>\n",
              "      <td>5 bintang</td>\n",
              "      <td>Tempat nya sangat Bersih Dan rapih, butuh stam...</td>\n",
              "      <td>tempat sangat bersih rapih butuh stamina utama...</td>\n",
              "    </tr>\n",
              "    <tr>\n",
              "      <th>4</th>\n",
              "      <td>Riko Tampati</td>\n",
              "      <td>sebulan lalu</td>\n",
              "      <td>4 bintang</td>\n",
              "      <td>Masih masa lebaran, tiket masuk agak mahal 25r...</td>\n",
              "      <td>masa lebaran tiket masuk mahal rb sangat ramai...</td>\n",
              "    </tr>\n",
              "    <tr>\n",
              "      <th>...</th>\n",
              "      <td>...</td>\n",
              "      <td>...</td>\n",
              "      <td>...</td>\n",
              "      <td>...</td>\n",
              "      <td>...</td>\n",
              "    </tr>\n",
              "    <tr>\n",
              "      <th>285</th>\n",
              "      <td>bunda popon</td>\n",
              "      <td>3 bulan lalu</td>\n",
              "      <td>5 bintang</td>\n",
              "      <td>Paket komplit, murah meriah cocok untuk acara ...</td>\n",
              "      <td>paket komplit murah riah cocok acara keluarga</td>\n",
              "    </tr>\n",
              "    <tr>\n",
              "      <th>286</th>\n",
              "      <td>petruk</td>\n",
              "      <td>setahun lalu</td>\n",
              "      <td>5 bintang</td>\n",
              "      <td>Lokasi nya nyaman dan aman, banyak tempat untu...</td>\n",
              "      <td>lokasi nyaman aman banyak tempat berswaphoto b...</td>\n",
              "    </tr>\n",
              "    <tr>\n",
              "      <th>287</th>\n",
              "      <td>Eva Meliana</td>\n",
              "      <td>2 tahun lalu</td>\n",
              "      <td>5 bintang</td>\n",
              "      <td>Tempat nya bagus, sejuk, pemandian nya air nya...</td>\n",
              "      <td>tempat bagus sejuk mandi air dingin hangat fla...</td>\n",
              "    </tr>\n",
              "    <tr>\n",
              "      <th>288</th>\n",
              "      <td>Deandra Almerrafif W.T</td>\n",
              "      <td>sebulan lalu</td>\n",
              "      <td>5 bintang</td>\n",
              "      <td>View bagus,,, tiket murah, berenang free</td>\n",
              "      <td>view bagus tiket murah renang fre</td>\n",
              "    </tr>\n",
              "    <tr>\n",
              "      <th>289</th>\n",
              "      <td>agniya ridha</td>\n",
              "      <td>2 tahun lalu</td>\n",
              "      <td>5 bintang</td>\n",
              "      <td>Seneng banget bisa kesini, suasananya alam ban...</td>\n",
              "      <td>neng banget kesini suasana alam banget bukit s...</td>\n",
              "    </tr>\n",
              "  </tbody>\n",
              "</table>\n",
              "<p>290 rows × 5 columns</p>\n",
              "</div>\n",
              "      <button class=\"colab-df-convert\" onclick=\"convertToInteractive('df-42fca4ea-aebe-47a3-94d9-de76543476da')\"\n",
              "              title=\"Convert this dataframe to an interactive table.\"\n",
              "              style=\"display:none;\">\n",
              "        \n",
              "  <svg xmlns=\"http://www.w3.org/2000/svg\" height=\"24px\"viewBox=\"0 0 24 24\"\n",
              "       width=\"24px\">\n",
              "    <path d=\"M0 0h24v24H0V0z\" fill=\"none\"/>\n",
              "    <path d=\"M18.56 5.44l.94 2.06.94-2.06 2.06-.94-2.06-.94-.94-2.06-.94 2.06-2.06.94zm-11 1L8.5 8.5l.94-2.06 2.06-.94-2.06-.94L8.5 2.5l-.94 2.06-2.06.94zm10 10l.94 2.06.94-2.06 2.06-.94-2.06-.94-.94-2.06-.94 2.06-2.06.94z\"/><path d=\"M17.41 7.96l-1.37-1.37c-.4-.4-.92-.59-1.43-.59-.52 0-1.04.2-1.43.59L10.3 9.45l-7.72 7.72c-.78.78-.78 2.05 0 2.83L4 21.41c.39.39.9.59 1.41.59.51 0 1.02-.2 1.41-.59l7.78-7.78 2.81-2.81c.8-.78.8-2.07 0-2.86zM5.41 20L4 18.59l7.72-7.72 1.47 1.35L5.41 20z\"/>\n",
              "  </svg>\n",
              "      </button>\n",
              "      \n",
              "  <style>\n",
              "    .colab-df-container {\n",
              "      display:flex;\n",
              "      flex-wrap:wrap;\n",
              "      gap: 12px;\n",
              "    }\n",
              "\n",
              "    .colab-df-convert {\n",
              "      background-color: #E8F0FE;\n",
              "      border: none;\n",
              "      border-radius: 50%;\n",
              "      cursor: pointer;\n",
              "      display: none;\n",
              "      fill: #1967D2;\n",
              "      height: 32px;\n",
              "      padding: 0 0 0 0;\n",
              "      width: 32px;\n",
              "    }\n",
              "\n",
              "    .colab-df-convert:hover {\n",
              "      background-color: #E2EBFA;\n",
              "      box-shadow: 0px 1px 2px rgba(60, 64, 67, 0.3), 0px 1px 3px 1px rgba(60, 64, 67, 0.15);\n",
              "      fill: #174EA6;\n",
              "    }\n",
              "\n",
              "    [theme=dark] .colab-df-convert {\n",
              "      background-color: #3B4455;\n",
              "      fill: #D2E3FC;\n",
              "    }\n",
              "\n",
              "    [theme=dark] .colab-df-convert:hover {\n",
              "      background-color: #434B5C;\n",
              "      box-shadow: 0px 1px 3px 1px rgba(0, 0, 0, 0.15);\n",
              "      filter: drop-shadow(0px 1px 2px rgba(0, 0, 0, 0.3));\n",
              "      fill: #FFFFFF;\n",
              "    }\n",
              "  </style>\n",
              "\n",
              "      <script>\n",
              "        const buttonEl =\n",
              "          document.querySelector('#df-42fca4ea-aebe-47a3-94d9-de76543476da button.colab-df-convert');\n",
              "        buttonEl.style.display =\n",
              "          google.colab.kernel.accessAllowed ? 'block' : 'none';\n",
              "\n",
              "        async function convertToInteractive(key) {\n",
              "          const element = document.querySelector('#df-42fca4ea-aebe-47a3-94d9-de76543476da');\n",
              "          const dataTable =\n",
              "            await google.colab.kernel.invokeFunction('convertToInteractive',\n",
              "                                                     [key], {});\n",
              "          if (!dataTable) return;\n",
              "\n",
              "          const docLinkHtml = 'Like what you see? Visit the ' +\n",
              "            '<a target=\"_blank\" href=https://colab.research.google.com/notebooks/data_table.ipynb>data table notebook</a>'\n",
              "            + ' to learn more about interactive tables.';\n",
              "          element.innerHTML = '';\n",
              "          dataTable['output_type'] = 'display_data';\n",
              "          await google.colab.output.renderOutput(dataTable, element);\n",
              "          const docLink = document.createElement('div');\n",
              "          docLink.innerHTML = docLinkHtml;\n",
              "          element.appendChild(docLink);\n",
              "        }\n",
              "      </script>\n",
              "    </div>\n",
              "  </div>\n",
              "  "
            ]
          },
          "metadata": {},
          "execution_count": 5
        }
      ]
    },
    {
      "cell_type": "code",
      "source": [
        "review=data['CleanReview']\n",
        "review"
      ],
      "metadata": {
        "colab": {
          "base_uri": "https://localhost:8080/",
          "height": 0
        },
        "id": "DVLFVzL-WZ3O",
        "outputId": "6ced10e6-2145-4655-d86b-f9112cfe2b51"
      },
      "execution_count": 40,
      "outputs": [
        {
          "output_type": "execute_result",
          "data": {
            "text/plain": [
              "0      bismilah tadi sana pas masuk suru cuci tangan ...\n",
              "1      walaupun ulang kali sini semenjak kecil rasa b...\n",
              "2      suasanan malam hari lokawisata baturaden nih s...\n",
              "3      tempat sangat bersih rapih butuh stamina utama...\n",
              "4      masa lebaran tiket masuk mahal rb sangat ramai...\n",
              "                             ...                        \n",
              "285        paket komplit murah riah cocok acara keluarga\n",
              "286    lokasi nyaman aman banyak tempat berswaphoto b...\n",
              "287    tempat bagus sejuk mandi air dingin hangat fla...\n",
              "288                    view bagus tiket murah renang fre\n",
              "289    neng banget kesini suasana alam banget bukit s...\n",
              "Name: CleanReview, Length: 290, dtype: object"
            ]
          },
          "metadata": {},
          "execution_count": 40
        }
      ]
    },
    {
      "cell_type": "markdown",
      "source": [
        "TOKENIZING"
      ],
      "metadata": {
        "id": "vECWGVjWWxC2"
      }
    },
    {
      "cell_type": "code",
      "source": [
        "token_word =review.apply(word_tokenize)\n",
        "token_word"
      ],
      "metadata": {
        "id": "8J8PJl6TWdkP",
        "colab": {
          "base_uri": "https://localhost:8080/",
          "height": 0
        },
        "outputId": "d5055ffe-60d0-4495-835a-9dd09a15957b"
      },
      "execution_count": 67,
      "outputs": [
        {
          "output_type": "execute_result",
          "data": {
            "text/plain": [
              "0      [bismilah, tadi, sana, pas, masuk, suru, cuci,...\n",
              "1      [walaupun, ulang, kali, sini, semenjak, kecil,...\n",
              "2      [suasanan, malam, hari, lokawisata, baturaden,...\n",
              "3      [tempat, sangat, bersih, rapih, butuh, stamina...\n",
              "4      [masa, lebaran, tiket, masuk, mahal, rb, sanga...\n",
              "                             ...                        \n",
              "285    [paket, komplit, murah, riah, cocok, acara, ke...\n",
              "286    [lokasi, nyaman, aman, banyak, tempat, berswap...\n",
              "287    [tempat, bagus, sejuk, mandi, air, dingin, han...\n",
              "288             [view, bagus, tiket, murah, renang, fre]\n",
              "289    [neng, banget, kesini, suasana, alam, banget, ...\n",
              "Name: CleanReview, Length: 290, dtype: object"
            ]
          },
          "metadata": {},
          "execution_count": 67
        }
      ]
    },
    {
      "cell_type": "code",
      "source": [
        "pip install python-crfsuite"
      ],
      "metadata": {
        "colab": {
          "base_uri": "https://localhost:8080/",
          "height": 0
        },
        "id": "RD-D-LUpW5dt",
        "outputId": "cbc88212-fb2b-4cd6-e970-924a44dbb28d"
      },
      "execution_count": 74,
      "outputs": [
        {
          "output_type": "stream",
          "name": "stdout",
          "text": [
            "Looking in indexes: https://pypi.org/simple, https://us-python.pkg.dev/colab-wheels/public/simple/\n",
            "Requirement already satisfied: python-crfsuite in /usr/local/lib/python3.8/dist-packages (0.9.8)\n"
          ]
        }
      ]
    },
    {
      "cell_type": "code",
      "source": [
        "pip install sklearn-pycrfsuite"
      ],
      "metadata": {
        "colab": {
          "base_uri": "https://localhost:8080/",
          "height": 0
        },
        "id": "wcorvgLJXUNj",
        "outputId": "5bad80c2-ca09-4859-bf0e-d97383d55178"
      },
      "execution_count": 11,
      "outputs": [
        {
          "output_type": "stream",
          "name": "stdout",
          "text": [
            "Looking in indexes: https://pypi.org/simple, https://us-python.pkg.dev/colab-wheels/public/simple/\n",
            "Requirement already satisfied: sklearn-pycrfsuite in /usr/local/lib/python3.8/dist-packages (0.4.0)\n",
            "Requirement already satisfied: python-crfsuite-extension in /usr/local/lib/python3.8/dist-packages (from sklearn-pycrfsuite) (0.9.7)\n",
            "Requirement already satisfied: six in /usr/local/lib/python3.8/dist-packages (from sklearn-pycrfsuite) (1.15.0)\n",
            "Requirement already satisfied: tqdm>=2.0 in /usr/local/lib/python3.8/dist-packages (from sklearn-pycrfsuite) (4.64.1)\n",
            "Requirement already satisfied: tabulate in /usr/local/lib/python3.8/dist-packages (from sklearn-pycrfsuite) (0.8.10)\n"
          ]
        }
      ]
    },
    {
      "cell_type": "markdown",
      "source": [
        "NER MENGGUNAKAN LOCAL FILE TAGGER"
      ],
      "metadata": {
        "id": "P_cOJMOgW4Z4"
      }
    },
    {
      "cell_type": "code",
      "source": [
        "tag = CRFTagger()\n",
        "\n",
        "tag.set_model_file('all_indo_man_tag_corpus_model.crf.tagger')\n",
        "\n",
        "hasil_POS= tag.tag_sents(token_word)"
      ],
      "metadata": {
        "id": "5GG9cKpPXCg4"
      },
      "execution_count": 69,
      "outputs": []
    },
    {
      "cell_type": "code",
      "source": [
        "tag.set_model_file('all_indo_man_tag_corpus_model.crf.tagger')"
      ],
      "metadata": {
        "id": "o8GWnXc-XFIc"
      },
      "execution_count": 13,
      "outputs": []
    },
    {
      "cell_type": "code",
      "source": [
        "hasil_POS= tag.tag_sents(token_word)"
      ],
      "metadata": {
        "id": "tEQA5Ls3X8jH"
      },
      "execution_count": 97,
      "outputs": []
    },
    {
      "cell_type": "code",
      "source": [
        "hasil_POS"
      ],
      "metadata": {
        "id": "Yb2um9Q9HwEd"
      },
      "execution_count": null,
      "outputs": []
    },
    {
      "cell_type": "code",
      "source": [
        "import nltk\n",
        "nltk.download('averaged_perceptron_tagger')"
      ],
      "metadata": {
        "colab": {
          "base_uri": "https://localhost:8080/",
          "height": 0
        },
        "id": "rPiq7T9nshEm",
        "outputId": "375b5354-88aa-4f9d-af14-15417b465f82"
      },
      "execution_count": 16,
      "outputs": [
        {
          "output_type": "stream",
          "name": "stderr",
          "text": [
            "[nltk_data] Downloading package averaged_perceptron_tagger to\n",
            "[nltk_data]     /root/nltk_data...\n",
            "[nltk_data]   Unzipping taggers/averaged_perceptron_tagger.zip.\n"
          ]
        },
        {
          "output_type": "execute_result",
          "data": {
            "text/plain": [
              "True"
            ]
          },
          "metadata": {},
          "execution_count": 16
        }
      ]
    },
    {
      "cell_type": "code",
      "source": [
        "flatList = [element for innerList in hasil_POS for element in innerList]"
      ],
      "metadata": {
        "id": "dS_eVsNqt8uj"
      },
      "execution_count": 99,
      "outputs": []
    },
    {
      "cell_type": "code",
      "source": [
        "nltk.download('words')"
      ],
      "metadata": {
        "colab": {
          "base_uri": "https://localhost:8080/",
          "height": 0
        },
        "id": "_k5kVs-9vOBk",
        "outputId": "262df2c4-5ea2-4b5e-8051-ace48438c4de"
      },
      "execution_count": 100,
      "outputs": [
        {
          "output_type": "stream",
          "name": "stderr",
          "text": [
            "[nltk_data] Downloading package words to /root/nltk_data...\n",
            "[nltk_data]   Package words is already up-to-date!\n"
          ]
        },
        {
          "output_type": "execute_result",
          "data": {
            "text/plain": [
              "True"
            ]
          },
          "metadata": {},
          "execution_count": 100
        }
      ]
    },
    {
      "cell_type": "code",
      "source": [
        "entities =[]\n",
        "labels =[]\n",
        "\n",
        "for i,j in flatList:\n",
        "  if i and j != None:\n",
        "    entities.append(i)\n",
        "    labels.append(j)\n",
        "        \n",
        "entities_labels = list(set(zip(entities, labels)))\n",
        "entities_df = pd.DataFrame(entities_labels)\n",
        "entities_df.columns = [\"Entities\",\"Labels\"]\n",
        "entities_df"
      ],
      "metadata": {
        "id": "zw1JSw0ovRwP",
        "colab": {
          "base_uri": "https://localhost:8080/",
          "height": 424
        },
        "outputId": "ebefb99a-a4a7-40a9-de56-31f960c59607"
      },
      "execution_count": 101,
      "outputs": [
        {
          "output_type": "execute_result",
          "data": {
            "text/plain": [
              "      Entities Labels\n",
              "0        berat     NN\n",
              "1     seporete     FW\n",
              "2          top     JJ\n",
              "3         kali     VB\n",
              "4        belum    NEG\n",
              "...        ...    ...\n",
              "1760     rajin     NN\n",
              "1761    manula     NN\n",
              "1762      menu     NN\n",
              "1763     konon     RB\n",
              "1764       air     NN\n",
              "\n",
              "[1765 rows x 2 columns]"
            ],
            "text/html": [
              "\n",
              "  <div id=\"df-78c8321e-1e07-4644-b008-2a6e8303421a\">\n",
              "    <div class=\"colab-df-container\">\n",
              "      <div>\n",
              "<style scoped>\n",
              "    .dataframe tbody tr th:only-of-type {\n",
              "        vertical-align: middle;\n",
              "    }\n",
              "\n",
              "    .dataframe tbody tr th {\n",
              "        vertical-align: top;\n",
              "    }\n",
              "\n",
              "    .dataframe thead th {\n",
              "        text-align: right;\n",
              "    }\n",
              "</style>\n",
              "<table border=\"1\" class=\"dataframe\">\n",
              "  <thead>\n",
              "    <tr style=\"text-align: right;\">\n",
              "      <th></th>\n",
              "      <th>Entities</th>\n",
              "      <th>Labels</th>\n",
              "    </tr>\n",
              "  </thead>\n",
              "  <tbody>\n",
              "    <tr>\n",
              "      <th>0</th>\n",
              "      <td>berat</td>\n",
              "      <td>NN</td>\n",
              "    </tr>\n",
              "    <tr>\n",
              "      <th>1</th>\n",
              "      <td>seporete</td>\n",
              "      <td>FW</td>\n",
              "    </tr>\n",
              "    <tr>\n",
              "      <th>2</th>\n",
              "      <td>top</td>\n",
              "      <td>JJ</td>\n",
              "    </tr>\n",
              "    <tr>\n",
              "      <th>3</th>\n",
              "      <td>kali</td>\n",
              "      <td>VB</td>\n",
              "    </tr>\n",
              "    <tr>\n",
              "      <th>4</th>\n",
              "      <td>belum</td>\n",
              "      <td>NEG</td>\n",
              "    </tr>\n",
              "    <tr>\n",
              "      <th>...</th>\n",
              "      <td>...</td>\n",
              "      <td>...</td>\n",
              "    </tr>\n",
              "    <tr>\n",
              "      <th>1760</th>\n",
              "      <td>rajin</td>\n",
              "      <td>NN</td>\n",
              "    </tr>\n",
              "    <tr>\n",
              "      <th>1761</th>\n",
              "      <td>manula</td>\n",
              "      <td>NN</td>\n",
              "    </tr>\n",
              "    <tr>\n",
              "      <th>1762</th>\n",
              "      <td>menu</td>\n",
              "      <td>NN</td>\n",
              "    </tr>\n",
              "    <tr>\n",
              "      <th>1763</th>\n",
              "      <td>konon</td>\n",
              "      <td>RB</td>\n",
              "    </tr>\n",
              "    <tr>\n",
              "      <th>1764</th>\n",
              "      <td>air</td>\n",
              "      <td>NN</td>\n",
              "    </tr>\n",
              "  </tbody>\n",
              "</table>\n",
              "<p>1765 rows × 2 columns</p>\n",
              "</div>\n",
              "      <button class=\"colab-df-convert\" onclick=\"convertToInteractive('df-78c8321e-1e07-4644-b008-2a6e8303421a')\"\n",
              "              title=\"Convert this dataframe to an interactive table.\"\n",
              "              style=\"display:none;\">\n",
              "        \n",
              "  <svg xmlns=\"http://www.w3.org/2000/svg\" height=\"24px\"viewBox=\"0 0 24 24\"\n",
              "       width=\"24px\">\n",
              "    <path d=\"M0 0h24v24H0V0z\" fill=\"none\"/>\n",
              "    <path d=\"M18.56 5.44l.94 2.06.94-2.06 2.06-.94-2.06-.94-.94-2.06-.94 2.06-2.06.94zm-11 1L8.5 8.5l.94-2.06 2.06-.94-2.06-.94L8.5 2.5l-.94 2.06-2.06.94zm10 10l.94 2.06.94-2.06 2.06-.94-2.06-.94-.94-2.06-.94 2.06-2.06.94z\"/><path d=\"M17.41 7.96l-1.37-1.37c-.4-.4-.92-.59-1.43-.59-.52 0-1.04.2-1.43.59L10.3 9.45l-7.72 7.72c-.78.78-.78 2.05 0 2.83L4 21.41c.39.39.9.59 1.41.59.51 0 1.02-.2 1.41-.59l7.78-7.78 2.81-2.81c.8-.78.8-2.07 0-2.86zM5.41 20L4 18.59l7.72-7.72 1.47 1.35L5.41 20z\"/>\n",
              "  </svg>\n",
              "      </button>\n",
              "      \n",
              "  <style>\n",
              "    .colab-df-container {\n",
              "      display:flex;\n",
              "      flex-wrap:wrap;\n",
              "      gap: 12px;\n",
              "    }\n",
              "\n",
              "    .colab-df-convert {\n",
              "      background-color: #E8F0FE;\n",
              "      border: none;\n",
              "      border-radius: 50%;\n",
              "      cursor: pointer;\n",
              "      display: none;\n",
              "      fill: #1967D2;\n",
              "      height: 32px;\n",
              "      padding: 0 0 0 0;\n",
              "      width: 32px;\n",
              "    }\n",
              "\n",
              "    .colab-df-convert:hover {\n",
              "      background-color: #E2EBFA;\n",
              "      box-shadow: 0px 1px 2px rgba(60, 64, 67, 0.3), 0px 1px 3px 1px rgba(60, 64, 67, 0.15);\n",
              "      fill: #174EA6;\n",
              "    }\n",
              "\n",
              "    [theme=dark] .colab-df-convert {\n",
              "      background-color: #3B4455;\n",
              "      fill: #D2E3FC;\n",
              "    }\n",
              "\n",
              "    [theme=dark] .colab-df-convert:hover {\n",
              "      background-color: #434B5C;\n",
              "      box-shadow: 0px 1px 3px 1px rgba(0, 0, 0, 0.15);\n",
              "      filter: drop-shadow(0px 1px 2px rgba(0, 0, 0, 0.3));\n",
              "      fill: #FFFFFF;\n",
              "    }\n",
              "  </style>\n",
              "\n",
              "      <script>\n",
              "        const buttonEl =\n",
              "          document.querySelector('#df-78c8321e-1e07-4644-b008-2a6e8303421a button.colab-df-convert');\n",
              "        buttonEl.style.display =\n",
              "          google.colab.kernel.accessAllowed ? 'block' : 'none';\n",
              "\n",
              "        async function convertToInteractive(key) {\n",
              "          const element = document.querySelector('#df-78c8321e-1e07-4644-b008-2a6e8303421a');\n",
              "          const dataTable =\n",
              "            await google.colab.kernel.invokeFunction('convertToInteractive',\n",
              "                                                     [key], {});\n",
              "          if (!dataTable) return;\n",
              "\n",
              "          const docLinkHtml = 'Like what you see? Visit the ' +\n",
              "            '<a target=\"_blank\" href=https://colab.research.google.com/notebooks/data_table.ipynb>data table notebook</a>'\n",
              "            + ' to learn more about interactive tables.';\n",
              "          element.innerHTML = '';\n",
              "          dataTable['output_type'] = 'display_data';\n",
              "          await google.colab.output.renderOutput(dataTable, element);\n",
              "          const docLink = document.createElement('div');\n",
              "          docLink.innerHTML = docLinkHtml;\n",
              "          element.appendChild(docLink);\n",
              "        }\n",
              "      </script>\n",
              "    </div>\n",
              "  </div>\n",
              "  "
            ]
          },
          "metadata": {},
          "execution_count": 101
        }
      ]
    },
    {
      "cell_type": "markdown",
      "source": [
        "NER MENGGUNAKAN LIBRARY SPACY"
      ],
      "metadata": {
        "id": "jHBarJ5dXpJK"
      }
    },
    {
      "cell_type": "code",
      "source": [
        "pip install spacy"
      ],
      "metadata": {
        "id": "aYAR90lyaJll"
      },
      "execution_count": null,
      "outputs": []
    },
    {
      "cell_type": "code",
      "source": [
        "import spacy\n",
        "from spacy import displacy\n",
        "spacy.__version__"
      ],
      "metadata": {
        "colab": {
          "base_uri": "https://localhost:8080/",
          "height": 70
        },
        "id": "YsTFDqWuYnXu",
        "outputId": "0d7cdb32-6f49-4f6a-8379-732c49855d48"
      },
      "execution_count": 81,
      "outputs": [
        {
          "output_type": "stream",
          "name": "stderr",
          "text": [
            "/usr/local/lib/python3.8/dist-packages/torch/cuda/__init__.py:497: UserWarning: Can't initialize NVML\n",
            "  warnings.warn(\"Can't initialize NVML\")\n"
          ]
        },
        {
          "output_type": "execute_result",
          "data": {
            "text/plain": [
              "'3.4.4'"
            ],
            "application/vnd.google.colaboratory.intrinsic+json": {
              "type": "string"
            }
          },
          "metadata": {},
          "execution_count": 81
        }
      ]
    },
    {
      "cell_type": "code",
      "source": [
        "!python -m spacy download en_core_web_sm"
      ],
      "metadata": {
        "id": "_1MaH1vOaMdR"
      },
      "execution_count": null,
      "outputs": []
    },
    {
      "cell_type": "code",
      "source": [
        "list_review = []\n",
        "list_review = ' '.join(review)\n",
        "str_review = ''.join([str(item) for item in list_review])"
      ],
      "metadata": {
        "id": "Lsb3Eu9sc9fT"
      },
      "execution_count": 83,
      "outputs": []
    },
    {
      "cell_type": "code",
      "source": [
        "type(str_review)"
      ],
      "metadata": {
        "colab": {
          "base_uri": "https://localhost:8080/",
          "height": 0
        },
        "id": "uNsMTODEfRL0",
        "outputId": "b13617a4-c73f-425e-b1b7-c252061b9ae0"
      },
      "execution_count": 84,
      "outputs": [
        {
          "output_type": "execute_result",
          "data": {
            "text/plain": [
              "str"
            ]
          },
          "metadata": {},
          "execution_count": 84
        }
      ]
    },
    {
      "cell_type": "code",
      "source": [
        "str_review"
      ],
      "metadata": {
        "colab": {
          "base_uri": "https://localhost:8080/",
          "height": 122
        },
        "id": "8NBHaDTdjOif",
        "outputId": "975103af-de2e-419e-d3e8-365fccd35c88"
      },
      "execution_count": 85,
      "outputs": [
        {
          "output_type": "execute_result",
          "data": {
            "text/plain": [
              "'bismilah tadi sana pas masuk suru cuci tangan pakai masker tugas banyak protokol sehat banget deh depan dalem ingetin pake spiker tempat sedia kursi roda sedia pos depan tempat tata banget cakep indah cantik banyak sekali destinasi kunjunganya pesawat monumen monumen mandi air belerang mandi kolem renang depan cocok banget anak belakang prosotan sih cuma ga pancur anya kaya depan mandi air panas banyak cobain atuh cobain sana banyak jual aksesoris jajan ringan sampe berat ain karpet banyak buat tempat duduk penting cakep banyak buat foto luas senang sekali sini sama keluarga buat tonton film main lai banyak sekali jangan lupa bawa uang banyak hehe kalau masuk bayar iya unik sedia rute kursi roda ruang khusus susu waw lengkap banget tadi berangkat pancur naik angkot terus kesana rb orang pas pulang pintu naik ojek rb orang iya nawarin foto langsung jadi kok walaupun ulang kali sini semenjak kecil rasa bosan unjung area luas bersih hijau nyaman banyak wahana pandang indah cocok cuci mata lepas penat sama keluarga jual makan tebar sana tingal pilih favorit sate kelinci format makan leseh pakai tikar sedia jual makin buat piknik sini tetasa maknyus jam jam seperti kurang sat wahana wahana baru kumpul klaster the geong love seat permadani aladin bird nest taman botani unjung duduk duduk nikmat bebungan kolam kecil taman bekas rumah rumah kaca sayang bengkalai kaca kaca pecah awat padahal potensial jadi spot instagramable simpul recomended suasanan malam hari lokawisata baturaden nih sejuk banget pasti bikin enak tenang hati hahahaha fasilitas parkir banyak jajan sana gais tingal pilih aja suka selera kalian angkring jagung bakar sate ayam jajan dl nikmat suasana lihat pandang bagi selatan kota pwt cocok banget nih buat ngumpul bareng keluarga sahabat temen maupun doi deh yuk jangan lupa kesini malem hari buat jajan xixi tempat sangat bersih rapih butuh stamina utama bawa anak buat meng eksplore tempat krn luas bnanget banyak fasilitas hinuran spot poto masa lebaran tiket masuk mahal rb sangat ramai banyak lokasi wisata kali coba bareng keluarga kolam renang keluar sedikit sewa mobil adventure jalur of the road asik tegang biaya sewa mobil rb maksimal org durasi menit kurang lebih enak buat wisata keluarga cocok suasana dingin cakep lah lokawisata rupa suatu objek wisata letak belah utara kota purwokerto tepat lereng belah selatan gunung slamet baturaden letak lereng gunung jadi kawasan milik hawa sejuk cenderung sangat dingin utama malam hari baturaden rupa daerah wisata banyak kunjung wisatawan lokal utama hari mingu hari libur nasional kondisi sebut sebab banyak hotel vila diri sini pancur pitu baturaden mandi air panas kandung belerang percaya sembuh bagai sakit kulit letak belah atas pancur telu pancur telu mandi air panas kandung belerang percaya sembuh bagai sakit kulit letak belah bawah pancur pitu bumi kemah rupa camping ground sering dimanfatkan cinta alam nikmat giat out bond pernah gun tempat lengar jambore nasional gera pramuka se indonesia tahun kaloka widya mandala taman kaloka widya mandala baturaden wisata didik wanasuka baturaden rupa kebun binatang sekaligus tempat wisata edukasi resmi bupati kepala daerah tingkat banyumas djoko sudantoko tangal mei tempat pernah dapat prestasi visit indonesia dekade nobat anugerah wisata jawa tengah daerah istimewa yogyakarta semarang tangal agustus taman kaloka widya mandala baturaden dapat bagai macam binatang asal maupun luar negeri australia asia belanda koleksi liput sapi kaki lima kambing kaki tiga gajah beruk buing buaya iri ular sanca kaswari monyet landak iguana cendrawasih kelelawar ayam kate ayam mutiara orang utan elang bondol rusa tempat dapat museum satwa langka harimau sumatera beruang madu macan dahan mandi air panas curug ceheng wahana wista lembah combong combong valey paint bal and war games telaga sunyi baturaden lihat pandang kota purwokerto pulau nusa kambang beberapa pantai indah daerah cilacap baturaden sendiri milik banyak objek wisata tarik kunjung taman bitanin milik agam tanam bunga langka antara bunga havana daun dewa antarium lipstick palem paris widoro laut pamer jual souvenir kemudian curug gede buah air terjun cantik desa ketenger letak km pusat baturaden jauh situ buah mandi air panas pancur pitu suhu sekira hinga derajat celsius mandi air panas baturaden milik mandi percaya sembuh bagai sakit pancur telu baturaden milik kolam sumber air murni telaga sunyi baturaden nyata turut buka lokasi kemah unjung malam baturaden diri tenda wana wisata buah hutan hijau jarak km baturaden sangat pas kemah sama keluarga wisata keluarga baturaden tambah senang apabila kunjung taman kaloka widya mandala buah kebun binatang museum simpan kerangka kerangka fauna khas indonesia wisata alam baturaden sedia agam wisata kebudayan grebeg syura ada bulan pertama kalender tahun islam tunjuk musik calung tari tradisional lenger tunjuk nuansa mistis kuda lumping sadran upacara unjung situs suci biasa kubur sebut kenduren masyarakat tempat wisata cukup tarik alam bagus luas udara segar pancur air panas alam cukup ramai kunjung hari libur lokasi mudah jangkau wisata andal purwokerto janji pandang kaki gujung slamet sangat indah sejuk banyak spot spot tarik buat betah lama lama sini pandang maupun fasilitas jajan kuliner maupun cinderamata cukup banyak pilih sesuai selera masalah harga relatif wajar cuma beberapa catat perlu beri masuk perintah daerah tempat utama fasilitas track jalur khusus kaum difable jangkau seluruh area wisata lahan parkir sekitar tempat wisata jadi kesanya semrawut fasilitas feder gratis saran bila lahan parkir dekat wisata mungkin buat luas jarak tempuh beberapa kilo tempat wisata fasilitas feder gratis lokasi wisata moga tempat wisata khusus indonesia lebih baik wisata pertama sat pandemi kalau mau pancur saran naik angkot bapa supir mau nungu selesai coba jalan kaki sampe bawah jam menit istirahat saran kalau gak biasa jalan jauh jaga jarak patuh protokol sehat sat lokasi tempat sangat rekomendasi anak keluarga anak awas lokasi banyak tanga naik atas cari makan makan sini harga normal sate ayam sate kelinci pecel popmie mendoan dl sepeda air bayar rebu beli utk makan ikan main anak film ala kadar pesawat foker buat nonton film of road gak sempat kalau mau basah turun sungai waktu pas surut seru pokok tiket masuk rb orang masuk wahana main banyak spot foto bagus jam an kabut terkadang mulai turun lihat semua jajal semua wahana datang pagi lokawisata baturaden cukup kenal kalau orang luar kota kl datang banyumas libur mampir lokawisata baturaden ciri khas mendoan kriuk sambal kecap enak tempat wisata legendaris orang banyumas sekitar entah berapa kali sini sejuk adem luas sekali tempat destinasi banyak luas spot foto banyak cocok buat anak kolam renang mandi air panas ikan indah bagus karna datang tempat covid covid baru unjung tempat selasa pagi pagi udah baturaden sepi jadi enak buat nikmat lihat protokol selamat prokes giat ketat fasilitas prokes banyak sedia biar foto bicara tiket masuk nikmat udara segar indah gunung sayang mandi air panas rusak salah satu tempat wisata kabupaten banyumas harga tiket ribu satu orang masuk air panas pancur bayar lagj ribu masuk baturaden utama tiket masuk area pesawat kalau ga salah bayar naik kereta anak letak atas bayar anak naik alias sepeda air beli pakan ikan harga bungkus tiket wahana sepeda air bebek kendara orang dewasa orang anak kecil banyak spot foto pandang keren sekali olahraga karna tanga bikin hehe pariwisatacocok segala umur bagus tempat cocok banget buat plesiran bareng keluarga fasilitas mushola lokawisata baturaden sangat memprihatikan urus bahkan lantai mushola jebol moga depan lebih perhati jaga baik terimakasih pemandanganya bagus lumayan sejuk banyak spot tarik foto foto nikmat mau sini rajin rajin olahraga biar otot gak kaget jalan jalan jauh naik turun iya terapi ikan cobain biar kaki lebih rileks mau bagi tubuh mau makan minum sini gak usah bingung khawatir harga tera banyak sudut timbang pengelolan cukup baik kurang alat cuci tangan harga tiket masuk kemarin maret rp kunjung terlalu padat cukup ramai jaga diri tetap patuh protokol sehat laku enjoy baturaden tempat rekreasi cocok keluarga wahana rekreasi alam waterbom jajan makan berat lengkap deh ticketnya rb lho murah banget kan lokasi wisata baturaden lokasi jalan raya baturaden no dusun karangmangu karangmangu kabupaten banyumas jawa tengah jarak kilometer pusat kota purwokerto lokasi tempat wisata suhu cukup dingin sejuk tempat wisata keluarga cukup sejuk asri banyak wahana hibur alam kolam renang mandi air panas mas pandemi tmp wisatany terlalu ramai jadiny malah nyaman banget sini tmp wisatany rawat bersih rapi siap kaki kalo dsini krn jalany naik tiket masuk rb org tempat bagus asri adem banyak spot foto bnyak mkanan murah enak renang gratis sini harga lumayan mahal tau hrga asli brp soal ad dftr hrga menu mantap pertama kali tempat keren youtube nurhasan wirayuda tempat rekreasi nyaman wisata alam dg nuansa gunung wilayah kaki gunung slamet wisata murah riah tempat cukup bersih renang anak anak bayar tamnahan kurang fasilitas umum duduk lokawisata baturaden rupa wisata ikon baturaden banyumas sini swat poto aneka ragam bentuk latar belakang panorama kaki gunung slamet paling ikon sembur air wahana kolam renag becak air pancur air panas jembatan merah lulur belerang mongo bagus pemandanganya ramai wisatawan sesuai protokol sehat tarif jangkau hr biasa rb hari libur tempat wisata sangat senang bnyak wahana wisata tarik tiket org rb wktu libur pemandanganya sangat manja mata adem bagus tempat bukan buat libur keluarga buat blm keluarga datang sejuk nyaman bersih lokasi bagus tuk rekreasi kumpul keluarga tos mbah mar plesir maning cobain kuliner malam udara sejuk alam seru sama vel plezier tour menu lengkap sate kelinci sate ayam mie rebus mie goreng aneka goreng mendoan dimsum tahu kupat jagung bakar wedang ronde kopi teh sae pis tempat bersih lingkung nuansa hutan rating dong gk lupa buat jajan sama ny dong sama orang ramah btw aq sunda jabar pros harga tiket masuk relatif jangkau fasilitas parkir mudah akses mudah taman luas banyak atraksi tarik air terjun sepeda air suasana gunung toilet cukup bersih cons pkl scatered beranta pandang sangat bagus udara bersih ga pernah bosen libur kesini cocok buat wisata keluarga sayang pandemi gin hibur batas keren bersih bayar rb sat wekend puas banget renang gratis spot foto banyak makan ga mahal tempat sejuk asri mengunakan protokol sehat tahun tahun gak baturaden tahun lalu bahkan batal naik sangat padat banyak ubah jadi destinasi makin agam tetap ungulan pancur pitu udara sejuk pandang indah main buat anak anak makin banyak hinga rasa hari baturaden cukup nikmat semua wahana lokasi tarik tungu waktu nikmat malam baturaden kapan pandemi sekarang lbh kumplit asri senang pokok rasa penat jamin hilang wisata alam jaga keasrianya kondisi alam segar tempat bersih cocok buat refreshing hilang jenuh tempat cukup nyaman nongkrong malam pilih makan cukup banyak lumayan enak sayang harga kadang sesuai datang dri luar kota kadang harga lonjak sangat mahal datang seru luas sejuk nyaman banget sama keluarga kerabat teman harga tiket masuk jangkau suasana sejuk udara msh bersih jauh polusi udara pmandangan indah alami murah riah pokokny sangat direkomondasikn gak nyesel deh pwrmainan anak jga dewasa taman ny tarik foto kolam renang ny dingin luas pas buat renang siang sama kluarga alam luar biasa akhir tempat lama kunjung akhir sampai tempat indah bang masyarakat banyumas lengkap dg jalur utk difable sarana lumayan wisata leboh cocok santa keluarga kalo seru an sama temen kurang pas lokasi luas banyak spot bagus pas buat libur keluarga benar indah cuma tiket masuk masuk mahal nyata bayar kalau masuk objek wisata mungkin depan perlu jadi tiket terus wisata keluarga cocok wahana main santa baturaden rupa salah satu desa wajib kunjung libur kota purwokerto salah satu lokawisata baturaden lokasi wisata baturaden letak belah selatan lereng gunung slamet kabupaten banyumas jawa tengah kurang lebih meter atas mu laut km puncak gunung slamet km utara kota purwokerto tarik gunung julang tingi lihat sangat jelas rumah keluarga buah dusun nama mersi purwokerto wetan kata lihat gunung sebut griya purwokerto lokasi wisata baturaden terlalu jauh pusat kota jarak km menit jalan tempat wisata rupa tempat wisata umum cocok segala usia lokawisata sedia bagai pilih wahana wisata wisata air upa air macur seluncur air curug air terjun mandi air panas belerang sepeda air banyak lai wahana kolam renang lokawisata kolam renang lokawisata baturaden banyumas ada bagi kiri nikmat unjung mandi sungai gumawang tetap rasa segar air gunung dingin buah jembatan warna orange terang lihat bagi tengah bentang atas sungai gumawang bahkan tahun lokawisata baturaden saji wahana baru upa zip bike sepeda gantung swing montain ayun sambut wisatawan sat libur lebaran tahun dua wahana baru sebut jadi tempat selfie latar pandang baturaden indah coba wahana sepeda gantung sebut unjung kena biaya rp ribu sekali naik foto ayun latar belakang jurang pohon pinus kena biaya besar rp ribu tambah bagai wahana baru pihak benah bagai fasilias kolam renang pangung tempat teduh unjung tiket masuk lokawisata cukup jangkau kisar ribu rupiah orang apabila datang rombong biasa beri diskon potong harga tiket besar harga tiket masuk asuransi jasa raharja putra besar rupiah lokawisata sangat rekomendasi udara segar akses mudah parkir pada banyak tempat makan dg prokes jalan lancar banyak hotel dab vila murah nyaman wisata lokawisata baturaden hutan outbond pancur pancur taman botani adem asri rapi bersih tambah hawa senang buat jalan piknik bareng keluarga wisata alam kaki gunung slamet sejuk dingin asri bersih lokasi wisata dagang ramah enak makananya paling suka tempe mendoan enak banged tempat enak nyaman asri banget nah kalo mau makin nyaman bikin makin mantap vitamale aja minat wa sangat puas wisata baturaden htm murah fasilitas lengkap ga nyesel jauh jauh jakarta baturaden mantap lokawisata baturaden sangat indah pemandanganya udara sangat segar jadi lama lama kunjung sana wisata wajib kunjung udara sejuk nyaman bersih hari penuh ga cukup kunjung tempat wisata ayo kunjung datang nikmat alam angun bersih sejuk satwa hewan langkah udah gak satu sekarang jadi tempat wisata buat doang sekarang jadi kurang bagus oke jadi aku posting lokasi mingu lalu tepat malam hari aku sama temen temen dateng kesana kuliner malam tau sendiri baturaden cir khas nama mendoan lokawisata baturaden tempat wisata tarik senang asyik buat sama keluarga teman lai tempat bagus nyaman rekomendasi jauh purwokerto jangkau hitung jateng sayang mandi curug informasi bayar jauh jauh jalan kecewa tempat lumayan sejuk bersih selalu jaga minus terlalu banyak tukang dagang baik tukang dagang ada halaman luar area wisata lebih indah tata rapih luas bgt sampe cape muternya moga kdepanya makin baik mungkin dibtambah alat traspot odong biar gx cape jala pandang indah sejuk nyaman lepas penat harga tiket masuk jangkau parkir luas wisata alam banget buat libur bareng teman keluarga tempat luas nyaman cocok tempat libur keluarga tempat lokasi wisata paling kenal purwokerto bagus murah besar tempat cocok utk keluarga sama teman teman makin bagus aja nih baturaden terus tingkat layan kualitas objek wisata bikin betah main sini tempat sejuk asri cocok banget buat wisata keluarga kesini pagi pagi udara suasana seger banget udah lama gk kesini baru tau kalo htm naik jadi rb dalam jadi bagus sekali kolam terapi ikan htm rb teater pesawat htm rb kolam renang fre banyk pas dtg nyata hari akhir buka mulai senin tutup mingu karena psb keren nyaman asri bagus buat foto keluarga nikah banyak jajan dgn hrg tiket msk rb wekend sangat worth it krn sdh al in spt kolam renang terapi ikan dn perahu bebek smp fasilitas sabun mandi cair toilet area bersih atur trmasuk hrg jajan sdh pampang sudut area banyak sudut bs eksplore baik dewasa dn anak jalan protokol sehat standard bahkan kelola bosan sering ingat unjung mengunakan masker sempurna lalu keras suara dagang jajan ramah dn sopan area parkir cukup luas dn sedia brp titik over al recomended tempat asyik murah riah jos pokoke sat pandemi beli tiket musti nik unjung sekarang batas hari lumayan lengang bagus buat rekreasi sama keluarga momong anak udara seger tempat bersih wahana banyak cocok lepas penat ibu kota sama keluarga tempat rekreasi keluarga indah purwokerto kesini ga bosen sekarang makin banyak wahana baru bayar tempat bagus banyak wahana jga pemandianya bukan upa kolam air panas aku paling suka jaja sana lmyan komplit sih kalo turut oleholehnya jga banyak varia tempat bagus bersih cocok libur keluarga udara sini sejuk tiket masuk tahun lalu beli tiket online tempat bagus segar udara semua pandang asri tempat bulan madu gw main kesana rekreasi sekaligus olah raga hiking tipis tipis murah riah kudu kesini kalean gaes asli suasana ga terlalu dingin tetap indah buat pandang wisata baturaden penuh indah alam sejuk udara ramah tamah warga luar biasa tempat indah pemandanganya bagus sayang penat dagang kurang tertib mana mana dagang lokasi wisata cukup tarik hibur nikmat indah alam tempat dingin lokasi enak nikmat malam kota sedia banyak jajan minum khas sate kelinci wahana tawar tiket masuk rb kepala terlalu mahal views tarik sama sekali sangat rekomendasi wisata komplit pandang alam banyak dagang makan pokok mantap banget dulu sekarang favorit htm tgl maret rp banyak ubah sini tetapakemasker tempat libur cocok keluarga tempat bersih sejuk security galak cuman numpang foto doang suruh cepet pindah parkir aneh objek wisata luar biasa keren tawar bagai macam wahana main pandang alam indah tempat dagang tata rapi jajan terlalu mahal tempat recomend bgt buat wisata sama keluarga cinta pokok kalian ga nyesel deh kalo ajak keluarga kesini senang kolam renang gratis tempat main anak dl suasana hijau nan indah wisata banyak nang masyarakat jateng smua penjuru wisata seger sepeda hari seger pemandanganya bagus udara dingin biaya masuk wahana sesuai prokes tempat cuci tangan masuk cek suhu lebih beberapa titik ga sabun pas mau cuci tangan mungkin habis sama sepeda air ikan mati blom ambil indah nyaman banyak wahana harga wahana standard terlalu mahal wahana gratis include sama tiket masuk bagus buat wisata sana harga jangkau air terjun rekomendet banget area luas pas buat sat sekarang jaga jarak kalau malam rame makananya mendowan jagung wedang jahe mantap udara pagi sueger tempat adem bagus buat selfi tempat asyik libur pemandanganya bagus udara segar banyak spot bagus tempat sejuk man pokonye mantab bener pas bangaet buat libur keluarga cocok pokok mah wisata alam nyaman sejuk byk wahana byk makan enak murah suka tempat bagus lengkap sejuk tarif masuk murah kualitas baik sejuk manja mata harga makan murah stabil dlm lokasi bagus bwt libur keluarga sejuk udara sangat cocok buat wisata keluarga banyak spot didatengin bagus smua keren adan pandemi protokol sehat utama banyak tempat wisata direnofasi baru bagus udara segar tempat gede mantap lokasi bersih tiket jangkau banyak jual jadi gak susah cari makan sejuk sih main lokawisata baturaden kalo malem wisata kuliner depan lokawisata mendoan kriuk wajib banget cobain apa cocol sambel kecap jadi makin mantap orang asli banyumas aja nga pernah bosen jadi wajib banget nih netijen coba harga masuk serius apa ga kmahalan tuh buat punya kluarga anak istri nikmat alam bebas ah indah bgt tempar piknik asik indah bersih jajananyapun reratif jangkau baru kali temu tempat alami sekali batu bersih tata sendiri sangat rapi aq sangat senang sekali htm cm seporete alias sepuase lurs ngadem dsini pokona mah udan bae prokes tempat nyaman udara segar sejuk oksigen premium tempat nyaman libur habis waktu akhir pekan santa sama keluarga sahabat sahabat cinta lepas kan penat rutinitas hari hari tempat bagus bersih murah bnyak spot utk fto tugas rmh mingu kawasan baturaden tepat lokawisata pngunjung ramai sekali seprti hari kmarin cocok derita jantung manula pintu masuk jaln tanga naik tingi wisata cocok refreshing tempat alami luas sejuk wisata alam sejuk pandang bagus lokasi purwokerto atas tempat bersih rapih libur keluarga besar semua senang udh kesini gakpernah kecewa sama tempat legenda batu raden kisah orang abdi bantu cinta putri majikanya sendiri putri orang adipati kadipaten kutaliman ada belah barat batu raden hubung beda derajat restu majikanya akhir usir kadipaten akhir temu tempat nyaman sejuk tingal hinga akhir hayat akhir tempat sebut kembang nama batur raden kata batur bantu raden majikan area taman kawasan wisata batu raden tepi sungai gumawang sedia beberapa tikar sewa keluarga piknik tempat beberapa sudut taman kosong guna berpiknikbagi keluarga kelompok orang bawa tikar bekal sendiri udara sangat sejuk sekali udara gunung dengat pandang indah cocok wisata keluarga nyaman sekali bagus bersih udara sejuk tempat enak buat bikin histori tempat sunguh indah alami banget enak buat libur keluarga tempat sejuk buat refreshing ramai kota enak banget buat jalan jalan udara sejuk banyak wahana main anak camping cocok wekend baturaden jadi primadona wisata kab banyumas purwokerto utama keluarga tempat wisata cukup indah walaupun sekarang kondisi dulu awat beberapa wahana sekarang lokawisata baturaden udah mulai buka tpi tetep prokes ketat sejuk nyaman pilih dekat nikmat segar sejuk alam wisata banyak banyak unjung protokol kesehatanya ketat pokok is the best baturaden bagus sekali pancur lewat jalan raya jangan lewat tanga hutan rame pas coid wisata alam kota purwokerto kab banyumas jawa tengah tempat sejuk luas murah biaya masuk jajan murah tempat wisata favorit pokok htm murah pas banget ajak keluarga ber wisata sini pandang bagus udara sejuk air sangat segar cocok suka bunga nyata baturaden banyak bunga aglonema tempat sangat baik quality time sama keluarga sangat luas banyak wahana awat bersih hampar alam bikin tenang kali kesana gak pernah ngecewain pokok suka adem untk destinasi wisata gunung jauh hiruk pikik kota kalo kunjung kesini jamin otak lngsung refresh wahana dalam lokasi wisata lumayan lengkap buat mau renang dar sangat oke tempat sangat bagus utk libur parkir cukup luas kulienernya cukup lumayan utk lidah wida alam cukup indah sejuk fasilitas bersih lengkap kalau sore skitar jam malam banyak kuliner dipingir trotoar deket lokawisatamya nikmat hawa sejuk malam bagus sekarang rapih adem sejuk hawa jangan lupa cobain kuliner sate kelinci mendoan area parkir keren si asri sejuk sekali indah pandang nyaman tempat mandi air belerang pijit mantap wahana banyak udah include tiket masuk mantap tempat lumayan bagus biaya masuk mahal sini sangat ramai jadi tetep ikut protokol sehat gaes beberapa kali datang tempat bosan udara sejuk santa keluarga sayang kunjung kesini agust wisata pancur telu pancur tujuh tutup buat umum overal lokawisata mirip buah taman pakai tiket uang masuk lebih bagus htm tiada wahana lokawisata mungut tiket sendiri buat pemkab perangkat daerah mungkin cari pasu aspek hehehe pis juli kesini acara piknik kantor tempat wisata sekarang cukup kembang banding sat kesini tahun banyak wahana anak anak orang dewasa mandi air hangat kamar mandi spot spot foto mungkin suka harga tiket masuk dewasa rp anak masuk kesini kalau sat wekedn masa libuaran usaha datang pagi hari atas jam parkir mobil sulit tracknya cukup tanjak terlalu siang perlu parkir lokasi lumayan jauh pintu masuk mengunakan jasa ojek lokal antar pintu masuk tempat indah nyaman segar banyak destinasi pilih moga slalu akurat tempat bersih nyaman banyak spot foto bagus obyek wisata alami sejuk brmacam wahana oermainan edukasi selalu kesini sama keluarga lebaran bagus bngt lokasi wow pengin deh kesana suka sekali datang kesini tempat bagus udara sejuk sejuk bersih nyaman pokok jos buat refresing sendiri sama keluarga teman asyik sana tingal pilih mau nongkring dmna semua rawat jaga kesana gk cuma sekali brp kali sayang sekarang jauh jadi bom kesana moga wisata tempat indah hehehehe bagus bersih tanam rapih top tempat asyik nuat refresing bareng keluarga bnyk tmpt poto bgus pemandgn tempat rekreasi alam sangat saran wisata baik keluarga teman sahabat dekat letak strategis mudah unjung temu lokasi banyak spot foto tarik wahana main anak aman nyaman destinasi wisata kenal purwokerto pesona indah alam lereng gunung slamet nyaman asri walaupun ramai orang harga tiket orang parkir pilih serah mau adan panas redup tetap senang banyak spot main baik orang dewasa anak anak banyak kuliner pasti murah manja perut akhir sana pancur tiga tiket masuk kalau salah pandang apit tebing pohon besar sunguh asa senang rendam mandi air panas sini gratis bawa baju ganti sembari nikmat duduk kursi sedia sewa kursi bila mau bawa bubuk belerang terapi beli sini bungkus percaya walaupun tempat sangat ramai banyak tempat makan sama keluarga santa sini tempat luas sama anak cukup sulit pisah jadi have fun tetap perhati hehe sekian terima kasih salam ngapak pilih wisata murah tengah pandemi penting pakai masker bos baturaden buah tampat wisata alam ada utara purwokerto rupa destinasi wisata sejuk nyaman asri letak puncak bukit alami dalam tempat sebut dapat wahana main anak kolam renang sungai jernih air mancur bioskop dimensi saji hibur hari mingu libur lai upa kentongan tek tek banyumasan has harmoni musik indah destinasi wisata dukung ada fasilitas pada inap hotel banyak temu panjang jalan tuju tempat lokari parkir luas aman tambah tenang nikmat indah alam bukit baturaden enak tempat wisata cocok piknik sama keluarga baturaden rupa tempat mesti kunjung sedang purwokerto lokawisata baturaden baturaden ada belah utara kota purwokerto tepat lereng belah selatan gunung slamet baturaden letak lereng gunung jadi kawasan milik hawa sejuk cenderung sangat dingin utama malam hari baturaden rupa daerah wisata banyak kunjung wisatawan lokal utama hari mingu hari libur nasional kondisi sebut sebab banyak hotel vila diri sini milik panorama alam cantik baturaden milik banyak legenda rakyat salah satu cerita lutung kasarung kenal indah baturaden pancar lereng gunung slamet lokasi wisata jarak km kota purwokerto jawa tengah simpan panorama alam molek cerita rakyat raden kamandaka lutung kasarung cukup akrab masyarakat indonesia akses mudah area wisata sedia hotel aneka inap pada samping cinta alam buka sedia camping ground nyaman aman perlu khawatir sulit oleh makan area cukup banyak dagang jaja sate kelinci wisata baturaden rupa tempat wisata ada belah utara kota purwokerto tepat lereng gunung slamet unjung lokawisata baturaden kalian cukup mengunakan kendaran pribadi maupun kendaran umum waktu tempuh menit jarak kota purwokerto km kalian mengunakan angkut umum kalian cukup pergi terminal utama purwokerto cari angkut umum jurus baturaden wisata baturaden banyak kunjung wisatawan baik lokal maupun luar negeri sedikit hotel vila indah diri kawasan penuh butuh tempat tingal kawasan baturaden hawa sejuk pandang indah buat wisatawan betah tingal hotel maupun vila sini ikut spot cantik tarik dekat kawasan wisata baturaden curug telu curug pitu lokawisata baturaden desa wisata ketenger baturaden kebun raya baturaden telaga sunyi taman miniatur dunia smal world baturaden adventure forest curug bayan curug bidadari mongo cekibrot cocok buat edukasi anak main kolam renang loh pas buat refresing sejuk kaki gunung slamet tempat nyaman buat ngilangin penat hawa adem bikin lupa sama masalah cuman sayang parkir mobil mahal rebu tempat wisata sangat saran buat dh lama ga kesini dulu sering kesitu tempat pokok mantap cocok jalan sama keluarga smpai mandi air hangat tempat nyaman sejuk sangat cocok refresing sama keluarga sunguh adem sejahtera ramai unjung layan ramah lokawisata baturaden letak belah selatan gunung slamet milik udara sejuk cenderung tambah dingin malam hari milik panorama alam cantik baturaden sendiri milik terna sapi kambing perah kelola bptu hpt baturaden balai besar bibit ternak ungul hijau pakan ternak baturaden biaya wahana sedia lokasi sana sangat jangkau sangat sahabat dompet lokasi wisata sangat recomended kalian libur sama keluarga pacar atau teman dekat kalian baturaden siap sambut wisatawan jangan lupa protokol sehat cukup baik rapih indah nyaman tempat lumayan jauh dri pusat kota menit lah jala bagus cuma naik pom bensin meski pom mini kok sampa sana dewasa tiket masuk rebu banyak spot lumayan tarik kunjung pribadi sih biasa aja flying fox terlalu rendah sepeda air mungkin buat anak sih seru aja buat org dewasa ga greget lah taman botani lumayan lah buat suka cocok tanam naik atas pancur tilu bayar rebu orang tempat berendemnya kecil tempat tempat ngebilas pijat urut bayar rebu rebu sampe rebu ful body air ga panas anget aja macen angetnya air pipis naik pancur pitu bayar rebu sana aku sedikit kecewa karna tempat biasah banget tempat berendemnya lbih pantas sebut tempat berendem bebek karna kecil banget sih bak mandi angetnya tempat kes jorok turut turun bawah pancur air terjun dingin air bawah warung kopi mendoan pop mie kok kalo laper karna abis jalan nanjak curug telu curuk pitu hampir km so overal wisata skala aku kasih nilai aja wisata tua htm hari libur orang hari biasa orang anak usia atas thn bayar ful area wisata perlu buat acara tambah tari datang mungkin covid shg banyak nikmat pancur tutup moga mas covid lalu gereget baturaden mampu mikat lebih banyak unjung sesuai htmnya tempat wisata lama jadi andal perintah kabupaten banyumas ada kaki gunung slamet sehinga udara sejuk asri lokawisata baturaden dapat beberapa wahana spot tuju unjung pancur pancur rupa mata air panas alami kandung unsur belerang khasiat utk obat sakit kulit arena main anak jembatan kaca zip bike dl utk dar foto pokok recomended tempat wisata rekomended buat rekreasi sama keluarga spot foto sumpah bagus banget wahana kini ga foto dsini kolam renang air panas air dingin teater atas peswat terbang beneran air terjun tipis tipis kenal dong jembatan merah kata sih kalo pacar trus tuju jembatan putus hubung wah wah nyata mimin ngak tuh hehe paling mimin suka udara loh seger adem banyak wisata kuliner gelar tiker mendoan gondrong anget pecel teh hangat kopi susu hangat plus sate kelinci beuh love this place to the mon and back udara segar dsn banyak unjung tempat sejuk nyaman enak buat refresing banyak wahana baturaden letak belah utara kota purwokerto tepat lereng belah selatan gunung slamet baturaden letak lereng gunung jadi kawasan milik hawa sejuk cenderung sangat dingin utama malam hari baturaden rupa daerah wisata banyak kunjung wisatawan lokal utama hari mingu hari libur nasional kondisi sebut sebab banyak hotel vila diri sini baturaden tempuh mengunakan kendaran pribadi maupun umum jarak kota purwokerto km tempuh waktu menit lalu lintas terlalu padat apabila mengunakan kendaran umum wisatawan naik angkut kota terminal purwokerto turun terminal lokawisata baturaden lebih praktis wisatawan mengunakan taksi putus mengunakan kendaran pribadi baik hati hati jalan tanjak miring derajat baturaden indah pancar lereng gunung slamet lokasi wisata jarak km kota purwokerto jawa tengah simpan panorama alam molek cerita rakyat raden kamandaka lutung kasarung cukup akrab masyarakat indonesia akses mudah area wisata sedia hotel aneka inap pada samping cinta alam buka sedia camping ground nyaman aman perlu khawatir sulit oleh makan area cukup banyak dagang jaja sate kelinci krn dekat aja kuliner malam sate kelinci saji susu sapi murni hangat suasana dingin limut kaki gunung slamet ken kesini sama anak suami temoatnya asyik buat libur tempat rumayan kalau mau baturaden musim hujan saran pakai outdor stuf utama alas kaki hati hati licin kalau gak bawa payung sana banyak wan jadi gampang datang baik buat list dulu spot mau kunjung banyak lumayan bejarak beberapa spot bayar tiket masuk sekitar lokasi lumayan jangkau tawar mungkin legenda wisata sini tempat bagus keluarga teman kerabat tamasya refresing alam buka segar keren udara seger bgt indah bgt pandang mantap lama sini seperti ubah makin bagus mantap tempat asri awat sama adem banget mantap gaes lokasi luas banyak tempat main spot foto banyak bersih tempat jaga pandang indah mantap lah pandang indah sekali tempat sejuk segar bersih bikin mata cerah makin tata rapi tempat wisata mantap sejuk asri pandang indah tempat wisata sedia agam arena kolam renang tunjuk film spot foto jual banyak luas jangan ragu dl cocok jadi tempat wisata segala usia komunitas dl keluarga studytour komunitas pemandanganya pas kesana pelangi bagus banget totaly recomended banget tempat asik buat nyantai bareng keluarga pandang bukit pohon manja mata tempat aman nyaman udara segar alam sangat senang nikmat padu wisata alam modern lokawisata letak belah selatan gunung slamet milik udara sejuk cenderung tambah dingin malam hari milik panorama alam cantik baturaden milik banyak legenda rakyat salah satu cerita lutung kasarung kenal baturaden letak belah utara kota purwokerto tepat lereng belah selatan gunung slamet baturaden letak lereng gunung jadi kawasan milik hawa sejuk cenderung sangat dingin utama malam hari baturaden rupa daerah wisata banyak kunjung wisatawan lokal utama hari mingu hari libur nasional kondisi sebut sebab banyak hotel vila diri sini baturaden tempuh mengunakan kendaran pribadi maupun umum jarak kota purwokerto km tempuh waktu menit lalu lintas terlalu padat apabila mengunakan kendaran umum wisatawan naik angkut kota terminal purwokerto turun terminal lokawisata baturaden lebih praktis wisatawan mengunakan taksi putus mengunakan kendaran pribadi baik hati hati jalan tanjak miring derajat baturaden indah pancar lereng gunung slamet lokasi wisata jarak km kota purwokerto jawa tengah simpan panorama alam molek cerita rakyat raden kamandaka lutung kasarung cukup akrab masyarakat indonesia akses mudah area wisata sedia hotel aneka inap pada samping cinta alam buka sedia camping ground nyaman aman perlu khawatir sulit oleh makan area cukup banyak dagang jaja sate kelinci gunung slamet lereng lereng landai tawar panorama alam indah udara segar tingi oke tingi libur sama keluarga lebih asik baturaden semua jangkau baik makan tiket masuk oya satu kalian coba sate ayam sate kelinci bikin ngangenin rasa lembut pernah aku cobain destinasi wisata kabupaten banyuamas tawar bagai wisata alam bagus nyaman senang sekali moga next time kesini tempat wisata alami kelola cukup apik sehinga unjung manja segala fasilitas kunjung sat wekday tepat hari jum at unjung terlalu padat sehinga mudah mengeksplore semua tempat curug bagus bersih sedia spot fasilitas foto bayar ribu antara sepeda gantung karpet terbang motor cros beberapa lai dalam dapat tilas kata cukup ramai kunjung malam malam tentu tarik banyak jual souvenir harga sangat murah jangan takut lapar bawa bekal sana banyak jual makan cukup beranekaragam cocok buat libur bareng keluarga besar mantap makin bagus salah satu destinasi wisata populer purwokerto tawar suasana asri sejuk khas datar tingi ada kaki gunung slamet dapat bagai macam sarana wisata air terjun museum banyak jajan khas sekitar lokawisata baturaden akses tuju lokasi mudah bantu plang tunjuk jalan lokasi dgn mudah jalan halus sedikit tanjak liku jadi lebih waspada rekomendasi destinasi wisata asik purwokerto taman rekreasi baik semua sini pandang bagus bersih cukup ramai cuaca dingin banget banyak unjung malam hari akhir pergi tahun harga tiket masuk fasilitas dalam lokasi sejuk air panas gunung moga kemari lengkap bagi foto bagus wisata alam tarik tempat wisata cukup lengkap mulai wahana main view alam indah lengkap objek objek foto jembatan buat hinga air terjun tiket masuk orang rp teman teman suka alam suka daki sini jadi destinasi daki singkat pancur jadi primadona daki ratus anak tanga lewat hutan pinus luar biasa indah asri alam ketingalan pemanfatan air belerang hangat pancur jadi tempat istirahat jenak lanjut jalan pancur pancur laku pijat lulur belerang biaya tetap dar rendam kaki alir air belerang hangat konon sangat bermanfat kulit informasi tiket masuk tambah rp ribu masing pancur anjur datang lebih pagi puas main nikmat alam tempat bersih sejuk asri suasana gunung adem enak buat relax banyak tempat main anak bikin betah beberapa lokasi fasilitas akses kursi roda sayang tempat parkir kurang pada banyak kendaran overal wisata keluarga sangat rekomendasi akhir kesini pandemi sekarang pengin banget sana nga tau buka enga suasana sejuk banget bikin betah bagus seru indah jangkau tiket murah riah inap sangat murah pemandanganya bagus udara sama air segar bgt sekian kali kesini tempat enga ngebosenin tiket masuk murah spot foto banyak jamin gak nyesel dateng kesini panas adem wahana wisata alam buat serta atraksi wisata banyak lumayan lengkap sini cocok utk smua usia selalu ramai hari htm rb fre entry wisata air bioskop spot foto jembatan kaca sepeda gantung banyak view bagus utk lihat kota purwokerto tempat wisata alam bagai macam wahana sederhana coba semua sini keliling nikmat alam sejuk hutan hijau air mancur air terjun jembatan panjang jalan banyak jual makan khas tempe mendoan lai tiket masuk wisata masuk murah coba wahana tawar dalam harus bayar bahkan beberapa gratis tempat wisata nyaman ekonomis bersih indah baturaden masuk tempat wisata favorit purwokerto tempat luas bersih sejuk dapat bagai wahana main anak anak tiket cuma rp nikmat indah tempat wisata tarik tempat banyak anak anak remaja mandi sungai rebut uang receh lempar unjung atas jembatan baturaden salah satu pilih tempat wisata ada purwokerto udara sejuk bentang alam indah salah satu obyek wisata sayang lewat lokawisata baturaden lokawisata baturaden letak belah selatan gunung slamet milik udara sejuk cenderung tambah dingin malam hari milik panorama alam cantik baturaden milik banyak legenda rakyat salah satu cerita lutung kasarung kenal sdh sore jam parkir sdh lowong area masuk penuh kuliner souvenir harga tiket masuk rp hibur musik dekat tugu angklung rakyat banyak spot poto layan therapi dgn air panas therapi ikan naik pesawat semua bayar mushola banyak sedia toilet perlu perhati tugas cukup ramah informatif cocok wisata edukasi grp keluarga tetap semangat tingkat hibur bersih salam jalan tiket masuk wekend orang tiket masuk pancur orang mandi air belerang tiket spot foto kini sepeda gantung paralayang foto dl masuk fotografer handal cetak foto transfer file foto lihat peta lokasi baturaden lebih mudah lokasi tuju dapat banyak wisma inap jadi jangan khawatir lelah hehe air kamar mandi super duper dingin jadi lebih enak kalo pilih air hangat bawa makan luar pintu keluar banyak jual tanam cantik jadi konon kata kalo kata orang asli sini kalo pacar tu jangan main lokawisata baturaden soal putus kalo bukan jodoh yaiyalah kalo bukan jodoh mah putus lah gengs hahahaha becanda zheyeng aku sukak si kesini mau dar ngadem doang ato emng bner refreshing biasa suruh bayar tiket terus rb kaya deh dah renang bayar hehehehe kamu liat air terjun banyak banget spot foto flying fox olahraga jalan kaki atas hahahahaha aku si ga kuat cukup duduk deket air terjun trs makan sate deh hahahaha sate ayam sate kelinci geys harga rb rb tempat bagus buat wisata tempat wisata bagus recomended buat mau libur suasana malam hari banyak jajan minum hangat lokasi asri sejuk nyaman murah riah cocok buat goweser asik banyak cwe lebih baik lebih bagus banding tahun tahun belum rame kalo malem jala bagus alam bukit bintang nyaman santai luas banyak curug dalam banyak jual rame deh cocok buat libur keluarga kalau mau pancur pancur tuh jalan kaki nanjak sih sperti naik gunung cocok buat coba naik gunung beneran hehe ad mandi ny terapi ikan taman main anak banyak sekali spot foto baturaden view alam kalah bagus rekomendasi buat kalian lokasi purwokerto masuk cuma rb gila banget sih keren jawatengah ga matre kaya jawabarat hehehe maf fakta asri banget ingat kampung halaman wonosobo suara gemricik air jernih pandang luar biasa bagus tiket masuk juni org naik sepeda air super murah cuma banyak wahana baru spot foto keren naik foto dg kamera bagus hrs rogoh kocek besar sangat dsayangkan smw motret dg angel bagus foto banyak jauh bgt bersih nyaman asri indah bersih tmptnya tks senang tempat wisata tarik senang sini sangat tata sekali dapat kolam renang sungai alir dalam terus jalan tanjak air terjun lokasi bersih sangat asri memang banyak tanam sini ramai memang tempat wisata saran banyak jual makan jadi perlu bingung mau makan mana banyak jual cinderamata gantung kunci gelang harga rb buah dapat fotografer foto cetak langsung jadi arena outbond dapat area spot foto properti tarik tarif tentu lokasi wisata batu raden lokasi wisata ada purwokerto jawa tengah alam sangat alami asri bersih awat indah meski kali bukan pertama kali batu raden tetap jadi destinasi wisata ngangenin bikin tagih pokok like it tempat asri biaya masuk murah seger hawa gunung kmr sewa murah makan wafer uwenak seru paket komplit murah riah cocok acara keluarga lokasi nyaman aman banyak tempat berswaphoto baik sendiri maupun keluarga jangan lupa dapat photo langsung jadi abadi moment indah baturaden varian harga beda tempat tempat bagus sejuk mandi air dingin hangat flaying fox sepeda air terapi ikan tawa bnyak dagang makan minum aksesoris pernak pernik tiket masuk murah cuma rb orang view bagus tiket murah renang fre neng banget kesini suasana alam banget bukit sungai sulap jadi tempat wisata bagus luas banget pemandanganya indah banyak main musik'"
            ],
            "application/vnd.google.colaboratory.intrinsic+json": {
              "type": "string"
            }
          },
          "metadata": {},
          "execution_count": 85
        }
      ]
    },
    {
      "cell_type": "code",
      "source": [
        "nlp = spacy.load(\"en_core_web_sm\")"
      ],
      "metadata": {
        "id": "xbkeBeGbagN_"
      },
      "execution_count": 88,
      "outputs": []
    },
    {
      "cell_type": "code",
      "source": [
        "doc = nlp(str_review)\n",
        "\n",
        "entities = []\n",
        "labels = []\n",
        "position_start = []\n",
        "position_end = []\n",
        "\n",
        "for ent in doc.ents:\n",
        "  entities.append(ent)\n",
        "  labels.append(ent.label_)\n",
        "  position_start.append(ent.start_char)\n",
        "  position_end.append(ent.end_char)\n",
        "\n",
        "df = pd.DataFrame({\"Entities\" :entities, \"Labels\" :labels, \n",
        "                   \"Position_start\" :position_start, \n",
        "                   \"Position_end\" :position_end})\n",
        "\n",
        "# hasil dengan library\n",
        "df"
      ],
      "metadata": {
        "colab": {
          "base_uri": "https://localhost:8080/",
          "height": 424
        },
        "id": "3lNjxkDxam5Y",
        "outputId": "35a6ec58-8e23-4aec-d006-0c2ab8939d4b"
      },
      "execution_count": 104,
      "outputs": [
        {
          "output_type": "execute_result",
          "data": {
            "text/plain": [
              "                                      Entities    Labels  Position_start  \\\n",
              "0                                   (bismilah)    PERSON               0   \n",
              "1                                       (sana)    PERSON              14   \n",
              "2     (pakai, masker, tugas, banyak, protokol)    PERSON              46   \n",
              "3                                      (dalem)       GPE             104   \n",
              "4                                     (tempat)  CARDINAL             170   \n",
              "...                                        ...       ...             ...   \n",
              "1065               (terapi, ikan, tawa, bnyak)    PERSON           41131   \n",
              "1066                             (murah, cuma)    PERSON           41209   \n",
              "1067                           (murah, renang)    PERSON           41246   \n",
              "1068                         (kesini, suasana)    PERSON           41275   \n",
              "1069                            (alam, banget)       ORG           41290   \n",
              "\n",
              "      Position_end  \n",
              "0                8  \n",
              "1               18  \n",
              "2               80  \n",
              "3              109  \n",
              "4              176  \n",
              "...            ...  \n",
              "1065         41153  \n",
              "1066         41219  \n",
              "1067         41258  \n",
              "1068         41289  \n",
              "1069         41301  \n",
              "\n",
              "[1070 rows x 4 columns]"
            ],
            "text/html": [
              "\n",
              "  <div id=\"df-425852b1-654c-47ca-bb80-b77d9a3cf69b\">\n",
              "    <div class=\"colab-df-container\">\n",
              "      <div>\n",
              "<style scoped>\n",
              "    .dataframe tbody tr th:only-of-type {\n",
              "        vertical-align: middle;\n",
              "    }\n",
              "\n",
              "    .dataframe tbody tr th {\n",
              "        vertical-align: top;\n",
              "    }\n",
              "\n",
              "    .dataframe thead th {\n",
              "        text-align: right;\n",
              "    }\n",
              "</style>\n",
              "<table border=\"1\" class=\"dataframe\">\n",
              "  <thead>\n",
              "    <tr style=\"text-align: right;\">\n",
              "      <th></th>\n",
              "      <th>Entities</th>\n",
              "      <th>Labels</th>\n",
              "      <th>Position_start</th>\n",
              "      <th>Position_end</th>\n",
              "    </tr>\n",
              "  </thead>\n",
              "  <tbody>\n",
              "    <tr>\n",
              "      <th>0</th>\n",
              "      <td>(bismilah)</td>\n",
              "      <td>PERSON</td>\n",
              "      <td>0</td>\n",
              "      <td>8</td>\n",
              "    </tr>\n",
              "    <tr>\n",
              "      <th>1</th>\n",
              "      <td>(sana)</td>\n",
              "      <td>PERSON</td>\n",
              "      <td>14</td>\n",
              "      <td>18</td>\n",
              "    </tr>\n",
              "    <tr>\n",
              "      <th>2</th>\n",
              "      <td>(pakai, masker, tugas, banyak, protokol)</td>\n",
              "      <td>PERSON</td>\n",
              "      <td>46</td>\n",
              "      <td>80</td>\n",
              "    </tr>\n",
              "    <tr>\n",
              "      <th>3</th>\n",
              "      <td>(dalem)</td>\n",
              "      <td>GPE</td>\n",
              "      <td>104</td>\n",
              "      <td>109</td>\n",
              "    </tr>\n",
              "    <tr>\n",
              "      <th>4</th>\n",
              "      <td>(tempat)</td>\n",
              "      <td>CARDINAL</td>\n",
              "      <td>170</td>\n",
              "      <td>176</td>\n",
              "    </tr>\n",
              "    <tr>\n",
              "      <th>...</th>\n",
              "      <td>...</td>\n",
              "      <td>...</td>\n",
              "      <td>...</td>\n",
              "      <td>...</td>\n",
              "    </tr>\n",
              "    <tr>\n",
              "      <th>1065</th>\n",
              "      <td>(terapi, ikan, tawa, bnyak)</td>\n",
              "      <td>PERSON</td>\n",
              "      <td>41131</td>\n",
              "      <td>41153</td>\n",
              "    </tr>\n",
              "    <tr>\n",
              "      <th>1066</th>\n",
              "      <td>(murah, cuma)</td>\n",
              "      <td>PERSON</td>\n",
              "      <td>41209</td>\n",
              "      <td>41219</td>\n",
              "    </tr>\n",
              "    <tr>\n",
              "      <th>1067</th>\n",
              "      <td>(murah, renang)</td>\n",
              "      <td>PERSON</td>\n",
              "      <td>41246</td>\n",
              "      <td>41258</td>\n",
              "    </tr>\n",
              "    <tr>\n",
              "      <th>1068</th>\n",
              "      <td>(kesini, suasana)</td>\n",
              "      <td>PERSON</td>\n",
              "      <td>41275</td>\n",
              "      <td>41289</td>\n",
              "    </tr>\n",
              "    <tr>\n",
              "      <th>1069</th>\n",
              "      <td>(alam, banget)</td>\n",
              "      <td>ORG</td>\n",
              "      <td>41290</td>\n",
              "      <td>41301</td>\n",
              "    </tr>\n",
              "  </tbody>\n",
              "</table>\n",
              "<p>1070 rows × 4 columns</p>\n",
              "</div>\n",
              "      <button class=\"colab-df-convert\" onclick=\"convertToInteractive('df-425852b1-654c-47ca-bb80-b77d9a3cf69b')\"\n",
              "              title=\"Convert this dataframe to an interactive table.\"\n",
              "              style=\"display:none;\">\n",
              "        \n",
              "  <svg xmlns=\"http://www.w3.org/2000/svg\" height=\"24px\"viewBox=\"0 0 24 24\"\n",
              "       width=\"24px\">\n",
              "    <path d=\"M0 0h24v24H0V0z\" fill=\"none\"/>\n",
              "    <path d=\"M18.56 5.44l.94 2.06.94-2.06 2.06-.94-2.06-.94-.94-2.06-.94 2.06-2.06.94zm-11 1L8.5 8.5l.94-2.06 2.06-.94-2.06-.94L8.5 2.5l-.94 2.06-2.06.94zm10 10l.94 2.06.94-2.06 2.06-.94-2.06-.94-.94-2.06-.94 2.06-2.06.94z\"/><path d=\"M17.41 7.96l-1.37-1.37c-.4-.4-.92-.59-1.43-.59-.52 0-1.04.2-1.43.59L10.3 9.45l-7.72 7.72c-.78.78-.78 2.05 0 2.83L4 21.41c.39.39.9.59 1.41.59.51 0 1.02-.2 1.41-.59l7.78-7.78 2.81-2.81c.8-.78.8-2.07 0-2.86zM5.41 20L4 18.59l7.72-7.72 1.47 1.35L5.41 20z\"/>\n",
              "  </svg>\n",
              "      </button>\n",
              "      \n",
              "  <style>\n",
              "    .colab-df-container {\n",
              "      display:flex;\n",
              "      flex-wrap:wrap;\n",
              "      gap: 12px;\n",
              "    }\n",
              "\n",
              "    .colab-df-convert {\n",
              "      background-color: #E8F0FE;\n",
              "      border: none;\n",
              "      border-radius: 50%;\n",
              "      cursor: pointer;\n",
              "      display: none;\n",
              "      fill: #1967D2;\n",
              "      height: 32px;\n",
              "      padding: 0 0 0 0;\n",
              "      width: 32px;\n",
              "    }\n",
              "\n",
              "    .colab-df-convert:hover {\n",
              "      background-color: #E2EBFA;\n",
              "      box-shadow: 0px 1px 2px rgba(60, 64, 67, 0.3), 0px 1px 3px 1px rgba(60, 64, 67, 0.15);\n",
              "      fill: #174EA6;\n",
              "    }\n",
              "\n",
              "    [theme=dark] .colab-df-convert {\n",
              "      background-color: #3B4455;\n",
              "      fill: #D2E3FC;\n",
              "    }\n",
              "\n",
              "    [theme=dark] .colab-df-convert:hover {\n",
              "      background-color: #434B5C;\n",
              "      box-shadow: 0px 1px 3px 1px rgba(0, 0, 0, 0.15);\n",
              "      filter: drop-shadow(0px 1px 2px rgba(0, 0, 0, 0.3));\n",
              "      fill: #FFFFFF;\n",
              "    }\n",
              "  </style>\n",
              "\n",
              "      <script>\n",
              "        const buttonEl =\n",
              "          document.querySelector('#df-425852b1-654c-47ca-bb80-b77d9a3cf69b button.colab-df-convert');\n",
              "        buttonEl.style.display =\n",
              "          google.colab.kernel.accessAllowed ? 'block' : 'none';\n",
              "\n",
              "        async function convertToInteractive(key) {\n",
              "          const element = document.querySelector('#df-425852b1-654c-47ca-bb80-b77d9a3cf69b');\n",
              "          const dataTable =\n",
              "            await google.colab.kernel.invokeFunction('convertToInteractive',\n",
              "                                                     [key], {});\n",
              "          if (!dataTable) return;\n",
              "\n",
              "          const docLinkHtml = 'Like what you see? Visit the ' +\n",
              "            '<a target=\"_blank\" href=https://colab.research.google.com/notebooks/data_table.ipynb>data table notebook</a>'\n",
              "            + ' to learn more about interactive tables.';\n",
              "          element.innerHTML = '';\n",
              "          dataTable['output_type'] = 'display_data';\n",
              "          await google.colab.output.renderOutput(dataTable, element);\n",
              "          const docLink = document.createElement('div');\n",
              "          docLink.innerHTML = docLinkHtml;\n",
              "          element.appendChild(docLink);\n",
              "        }\n",
              "      </script>\n",
              "    </div>\n",
              "  </div>\n",
              "  "
            ]
          },
          "metadata": {},
          "execution_count": 104
        }
      ]
    },
    {
      "cell_type": "code",
      "source": [],
      "metadata": {
        "id": "jqeesiZgX1az"
      },
      "execution_count": null,
      "outputs": []
    }
  ]
}