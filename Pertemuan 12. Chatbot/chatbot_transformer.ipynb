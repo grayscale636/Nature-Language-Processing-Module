{
 "cells": [
  {
   "cell_type": "code",
   "execution_count": 2,
   "metadata": {},
   "outputs": [
    {
     "name": "stderr",
     "output_type": "stream",
     "text": [
      "No model was supplied, defaulted to distilbert-base-cased-distilled-squad and revision 626af31 (https://huggingface.co/distilbert-base-cased-distilled-squad).\n",
      "Using a pipeline without specifying a model name and revision in production is not recommended.\n"
     ]
    },
    {
     "name": "stdout",
     "output_type": "stream",
     "text": [
      "Jawaban: Pertanyaan\n",
      "Konteks: gian dari masyarakat global?\n",
      "\n",
      "Pertanyaan-pertanyaan ini mencerminkan k\n",
      "Jawaban: Pertanyaan-pertanyaan\n",
      "Konteks: gian dari masyarakat global?\n",
      "\n",
      "Pertanyaan-pertanyaan ini mencerminkan kompleksitas\n",
      "Jawaban: dan tantangan global\n",
      "Konteks: m tentang sejarah, teknologi, dan tantangan global.\n",
      "\n"
     ]
    }
   ],
   "source": [
    "from transformers import pipeline\n",
    "\n",
    "# Load pre-trained question-answering model\n",
    "qa_pipeline = pipeline(\"question-answering\")\n",
    "\n",
    "# Sample context (dokumen atau paragraf yang berisi informasi)\n",
    "context = \"\"\"\n",
    "Pada awal abad ke-20, revolusi industri mengubah lanskap ekonomi dan sosial di banyak negara. Di Amerika Serikat, inovasi teknologi seperti produksi massal dalam industri otomotif oleh Henry Ford memainkan peran besar dalam transformasi ini.\n",
    "\n",
    "Sementara itu, di Eropa, Perang Dunia I dan Perang Dunia II membawa dampak besar terhadap kehidupan masyarakat dan perekonomian. Setelah perang, negara-negara ini mengalami pemulihan ekonomi, dan munculnya Uni Soviet sebagai kekuatan besar dunia baru membentuk dinamika geopolitik.\n",
    "\n",
    "Pada abad ke-21, teknologi informasi dan internet membawa revolusi baru. Perusahaan teknologi besar seperti Google, Apple, dan Facebook memiliki dampak signifikan terhadap cara orang berkomunikasi dan mendapatkan informasi. Selain itu, isu-isu global seperti perubahan iklim dan krisis kesehatan, seperti pandemi COVID-19, menjadi sorotan utama di panggung dunia.\n",
    "\n",
    "Ke depan, manusia dihadapkan pada tantangan untuk mengatasi kompleksitas masalah global dan membangun masa depan yang berkelanjutan. Pertanyaan-pertanyaan terkait perkembangan teknologi, keberlanjutan, dan keseimbangan geopolitik akan terus menjadi fokus perhatian.\n",
    "\n",
    "Dengan perkembangan ini, peran pendidikan dan inovasi menjadi semakin penting untuk mempersiapkan generasi mendatang menghadapi dunia yang terus berubah. Bagaimana kita dapat memastikan bahwa kemajuan teknologi dan keberlanjutan dapat diintegrasikan dengan baik menjadi bagian dari masyarakat global?\n",
    "\n",
    "Pertanyaan-pertanyaan ini mencerminkan kompleksitas dan dinamika dunia modern, dan jawaban terhadap mereka memerlukan pemahaman mendalam tentang sejarah, teknologi, dan tantangan global.\n",
    "\"\"\"\n",
    "\n",
    "# Interaksi dengan user\n",
    "user_question = input(\"Pertanyaan Anda: \")\n",
    "\n",
    "while user_question.lower() != 'exit':\n",
    "    # Melakukan Question Answering dengan model Transformers\n",
    "    answer = qa_pipeline(question=user_question, context=context)\n",
    "\n",
    "    # Menampilkan jawaban\n",
    "    print(\"Jawaban:\", answer['answer'])\n",
    "\n",
    "    # Mengambil kontekst jawaban untuk ditampilkan\n",
    "    start_idx = max(0, answer['start'] - 30)\n",
    "    end_idx = min(len(context), answer['end'] + 30)\n",
    "    print(\"Konteks:\", context[start_idx:end_idx])\n",
    "\n",
    "    # Meminta pertanyaan berikutnya\n",
    "    user_question = input(\"Pertanyaan Anda: \")\n"
   ]
  },
  {
   "cell_type": "code",
   "execution_count": null,
   "metadata": {},
   "outputs": [],
   "source": []
  }
 ],
 "metadata": {
  "kernelspec": {
   "display_name": "tensorflow",
   "language": "python",
   "name": "python3"
  },
  "language_info": {
   "codemirror_mode": {
    "name": "ipython",
    "version": 3
   },
   "file_extension": ".py",
   "mimetype": "text/x-python",
   "name": "python",
   "nbconvert_exporter": "python",
   "pygments_lexer": "ipython3",
   "version": "3.9.18"
  }
 },
 "nbformat": 4,
 "nbformat_minor": 2
}
